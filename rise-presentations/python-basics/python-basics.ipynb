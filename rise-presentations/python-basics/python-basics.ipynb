{
 "cells": [
  {
   "cell_type": "code",
   "execution_count": 213,
   "id": "de6cc46e-0b90-4167-85a5-c09ab16fdd18",
   "metadata": {
    "editable": true,
    "raw_mimetype": "",
    "slideshow": {
     "slide_type": "skip"
    },
    "tags": []
   },
   "outputs": [
    {
     "data": {
      "text/html": [
       "<link rel=\"stylesheet\" type=\"text/css\" href=\"rise.css\" />\n"
      ],
      "text/plain": [
       "<IPython.core.display.HTML object>"
      ]
     },
     "metadata": {},
     "output_type": "display_data"
    }
   ],
   "source": [
    "%%html\n",
    "<link rel=\"stylesheet\" type=\"text/css\" href=\"rise.css\" />"
   ]
  },
  {
   "cell_type": "markdown",
   "id": "dc782afc-ccb9-4c4f-8801-8ecd4bf2eb21",
   "metadata": {
    "editable": true,
    "slideshow": {
     "slide_type": ""
    },
    "tags": []
   },
   "source": [
    "# Python basics\n",
    "<center><img src=\"images/python-logo.png\" style=\"max-width:600px; width:100%;\"></center>"
   ]
  },
  {
   "cell_type": "markdown",
   "id": "bfc80439",
   "metadata": {
    "editable": true,
    "jp-MarkdownHeadingCollapsed": true,
    "slideshow": {
     "slide_type": "slide"
    },
    "tags": []
   },
   "source": [
    "# How to learn python\n",
    "\n",
    "1. Learn the very very basics.\n",
    "2. **Dive in and apply it**, learning more advanced features as you go.\n",
    "\n",
    "<img src=\"images/dive-in.jpg\" width='40%'>\n",
    "\n",
    "3. **Practice, practice, practice.** The homework is your friend!"
   ]
  },
  {
   "cell_type": "markdown",
   "id": "f8a1e296",
   "metadata": {
    "editable": true,
    "slideshow": {
     "slide_type": "slide"
    },
    "tags": []
   },
   "source": [
    "# Basic data types\n",
    "**Learning goals**\n",
    "- You will understand python's basic data types."
   ]
  },
  {
   "cell_type": "code",
   "execution_count": 2,
   "id": "bc6efbf0",
   "metadata": {
    "cell_style": "center",
    "editable": true,
    "slideshow": {
     "slide_type": "slide"
    },
    "tags": []
   },
   "outputs": [
    {
     "data": {
      "text/plain": [
       "int"
      ]
     },
     "execution_count": 2,
     "metadata": {},
     "output_type": "execute_result"
    }
   ],
   "source": [
    "type(82)"
   ]
  },
  {
   "cell_type": "code",
   "execution_count": 3,
   "id": "8b6e2e59",
   "metadata": {
    "cell_style": "center",
    "code_folding": [],
    "editable": true,
    "slideshow": {
     "slide_type": "fragment"
    },
    "tags": []
   },
   "outputs": [
    {
     "data": {
      "text/plain": [
       "float"
      ]
     },
     "execution_count": 3,
     "metadata": {},
     "output_type": "execute_result"
    }
   ],
   "source": [
    "type(3.14)"
   ]
  },
  {
   "cell_type": "code",
   "execution_count": 4,
   "id": "45159ea9",
   "metadata": {
    "cell_style": "center",
    "code_folding": [],
    "editable": true,
    "slideshow": {
     "slide_type": "-"
    },
    "tags": []
   },
   "outputs": [
    {
     "data": {
      "text/plain": [
       "(bool, bool)"
      ]
     },
     "execution_count": 4,
     "metadata": {},
     "output_type": "execute_result"
    }
   ],
   "source": [
    "type(True), type(False)"
   ]
  },
  {
   "cell_type": "code",
   "execution_count": 5,
   "id": "4074848c",
   "metadata": {
    "cell_style": "center",
    "code_folding": [],
    "editable": true,
    "slideshow": {
     "slide_type": "-"
    },
    "tags": []
   },
   "outputs": [
    {
     "data": {
      "text/plain": [
       "(str, str, str)"
      ]
     },
     "execution_count": 5,
     "metadata": {},
     "output_type": "execute_result"
    }
   ],
   "source": [
    "type(\"Hello\"), type('hi'), type(\"y'all\")"
   ]
  },
  {
   "cell_type": "markdown",
   "id": "419ee006",
   "metadata": {
    "editable": true,
    "slideshow": {
     "slide_type": "slide"
    },
    "tags": []
   },
   "source": [
    "# Variables\n",
    "**Learning goals**\n",
    "- You will be able to assign values to variables.\n",
    "- You will appreciated the importance of variable names."
   ]
  },
  {
   "cell_type": "markdown",
   "id": "68136f92-fd3b-4fe4-9aa4-34b7f43f65b6",
   "metadata": {
    "editable": true,
    "jp-MarkdownHeadingCollapsed": true,
    "slideshow": {
     "slide_type": "slide"
    },
    "tags": []
   },
   "source": [
    "Variable names can include **letters**, **numbers** and **underscores**, but *cannot start with a number*."
   ]
  },
  {
   "cell_type": "code",
   "execution_count": 6,
   "id": "2cd80f6e",
   "metadata": {
    "editable": true,
    "slideshow": {
     "slide_type": ""
    },
    "tags": []
   },
   "outputs": [],
   "source": [
    "x = 5\n",
    "value9 = -34.2\n",
    "my_str = \"hello\"\n",
    "_82Flag = True"
   ]
  },
  {
   "cell_type": "code",
   "execution_count": 7,
   "id": "24bd6a98",
   "metadata": {
    "editable": true,
    "slideshow": {
     "slide_type": ""
    },
    "tags": []
   },
   "outputs": [
    {
     "data": {
      "text/plain": [
       "(5, -34.2, 'hello', True)"
      ]
     },
     "execution_count": 7,
     "metadata": {},
     "output_type": "execute_result"
    }
   ],
   "source": [
    "x, value9, my_str, _82Flag"
   ]
  },
  {
   "cell_type": "markdown",
   "id": "59196305",
   "metadata": {
    "editable": true,
    "slideshow": {
     "slide_type": "fragment"
    },
    "tags": []
   },
   "source": [
    "Operations with variables are the same as with values."
   ]
  },
  {
   "cell_type": "code",
   "execution_count": 8,
   "id": "95162f26",
   "metadata": {
    "slideshow": {
     "slide_type": "-"
    }
   },
   "outputs": [
    {
     "data": {
      "text/plain": [
       "False"
      ]
     },
     "execution_count": 8,
     "metadata": {},
     "output_type": "execute_result"
    }
   ],
   "source": [
    "value9 >= x"
   ]
  },
  {
   "cell_type": "code",
   "execution_count": 9,
   "id": "1cd083be",
   "metadata": {},
   "outputs": [
    {
     "data": {
      "text/plain": [
       "25"
      ]
     },
     "execution_count": 9,
     "metadata": {},
     "output_type": "execute_result"
    }
   ],
   "source": [
    "x * 5"
   ]
  },
  {
   "cell_type": "markdown",
   "id": "47d37fe3",
   "metadata": {
    "editable": true,
    "slideshow": {
     "slide_type": "slide"
    },
    "tags": []
   },
   "source": [
    "# Variable names are important!\n",
    "\n",
    "A huge amount of writing code **comes down to naming things!**\n",
    "\n",
    "Good variable names are an important part of making your code understandable.\n",
    "\n",
    "Which of the following variable names would you prefer?"
   ]
  },
  {
   "cell_type": "code",
   "execution_count": 10,
   "id": "a995be89",
   "metadata": {
    "editable": true,
    "slideshow": {
     "slide_type": ""
    },
    "tags": []
   },
   "outputs": [],
   "source": [
    "a = 54.6\n",
    "theSpikingRateOfFosExpressingNeuronsInVentralCA1 = 54.6\n",
    "spike_rate_fos = 54.6"
   ]
  },
  {
   "cell_type": "markdown",
   "id": "cbcbbb78",
   "metadata": {
    "editable": true,
    "slideshow": {
     "slide_type": "slide"
    },
    "tags": []
   },
   "source": [
    "# Variable names\n",
    "- **too short**: *unclear unless only used in immediate vicinity*\n",
    "- **too long**: *makes it hard to read super long code lines*\n",
    "- **just right**:\n",
    "\n",
    "<img src=\"images/goldilocks.jpg\">"
   ]
  },
  {
   "cell_type": "markdown",
   "id": "bed77d83",
   "metadata": {
    "editable": true,
    "slideshow": {
     "slide_type": "slide"
    },
    "tags": []
   },
   "source": [
    "# Special variable names\n",
    "`__builtins__`, `__dict__`, `__init__`, ...\n",
    "\n",
    "Variable names *surrounded by two consecutive underscores* on each side are used for special Python variables.\n",
    "\n",
    "*You should probably NOT use this naming pattern* for your own variables as you will both confuse people and potentially overwrite a Python variable.\n",
    "\n",
    "Unless you know what you are about, I would avoid using underscores for anything other than separating consecutive words in a variable name."
   ]
  },
  {
   "cell_type": "markdown",
   "id": "9cbe816b",
   "metadata": {
    "editable": true,
    "slideshow": {
     "slide_type": "slide"
    },
    "tags": []
   },
   "source": [
    "# Format strings\n",
    "**Learning goals**\n",
    "- You will be able to insert formatted values into strings."
   ]
  },
  {
   "cell_type": "code",
   "execution_count": 11,
   "id": "0a902563",
   "metadata": {
    "editable": true,
    "slideshow": {
     "slide_type": "slide"
    },
    "tags": []
   },
   "outputs": [
    {
     "data": {
      "text/plain": [
       "'A string that includes the values -56.359218 and 2.'"
      ]
     },
     "execution_count": 11,
     "metadata": {},
     "output_type": "execute_result"
    }
   ],
   "source": [
    "x = -56.359218\n",
    "y = 2\n",
    "\n",
    "f\"A string that includes the values {x} and {y}.\""
   ]
  },
  {
   "cell_type": "markdown",
   "id": "da7619d9",
   "metadata": {
    "editable": true,
    "slideshow": {
     "slide_type": "fragment"
    },
    "tags": []
   },
   "source": [
    "Formatting options"
   ]
  },
  {
   "cell_type": "code",
   "execution_count": 12,
   "id": "be20c101",
   "metadata": {
    "slideshow": {
     "slide_type": "-"
    }
   },
   "outputs": [
    {
     "data": {
      "text/plain": [
       "'A string that includes the floating point value -56.36 with two decimal places.'"
      ]
     },
     "execution_count": 12,
     "metadata": {},
     "output_type": "execute_result"
    }
   ],
   "source": [
    "x = -56.359218\n",
    "\n",
    "f\"A string that includes the floating point value {x:.2f} with two decimal places.\""
   ]
  },
  {
   "cell_type": "markdown",
   "id": "8c37d2e1",
   "metadata": {
    "editable": true,
    "slideshow": {
     "slide_type": "slide"
    },
    "tags": []
   },
   "source": [
    "# Comments\n",
    "**Learning goals**\n",
    "- You will from now on always comment your code so everyone can understand it *(including yourself later on)* ;)"
   ]
  },
  {
   "cell_type": "code",
   "execution_count": 13,
   "id": "64f71b4c",
   "metadata": {
    "editable": true,
    "slideshow": {
     "slide_type": "slide"
    },
    "tags": []
   },
   "outputs": [],
   "source": [
    "# number of neurons in dataset\n",
    "n = 156  # so many neurons!"
   ]
  },
  {
   "cell_type": "code",
   "execution_count": 14,
   "id": "59b701da",
   "metadata": {
    "editable": true,
    "slideshow": {
     "slide_type": "fragment"
    },
    "tags": []
   },
   "outputs": [],
   "source": [
    "\"\"\" A shorthand variable like `n` can provide very readable code\n",
    "if it is only used in a local context (e.g. this cell).\n",
    "\n",
    "However, if you refer to `n` in later cells,\n",
    "it may not be obvious what you mean by it.\n",
    "\"\"\"\n",
    "\n",
    "# these names are much more clear if used later\n",
    "num_neurons = 156  # snake_case\n",
    "numNeurons = 156  # camelCase\n",
    "NumNeurons = 156  # PascalCase"
   ]
  },
  {
   "cell_type": "code",
   "execution_count": 15,
   "id": "9cb7ca09",
   "metadata": {
    "editable": true,
    "slideshow": {
     "slide_type": "fragment"
    },
    "tags": []
   },
   "outputs": [],
   "source": [
    "\"\"\"\n",
    "Although super clear, writing any sort of expression \n",
    "involving this variable will end up in a really long line of code \n",
    "that can make the code difficult to read.\n",
    "\"\"\"\n",
    "theNumberOfThoseRareNeuronsWithHighlyDistinctProcesses = 156"
   ]
  },
  {
   "cell_type": "markdown",
   "id": "571528a0",
   "metadata": {
    "editable": true,
    "slideshow": {
     "slide_type": "slide"
    },
    "tags": []
   },
   "source": [
    "Multi-line strings"
   ]
  },
  {
   "cell_type": "code",
   "execution_count": 16,
   "id": "89e558ae",
   "metadata": {
    "editable": true,
    "slideshow": {
     "slide_type": "-"
    },
    "tags": []
   },
   "outputs": [
    {
     "name": "stdout",
     "output_type": "stream",
     "text": [
      "A multi-line\n",
      "string stored\n",
      "\n",
      "in a variable.\n"
     ]
    }
   ],
   "source": [
    "mystr = \"\"\"A multi-line\n",
    "string stored\n",
    "\n",
    "in a variable.\"\"\"\n",
    "\n",
    "print(mystr)"
   ]
  },
  {
   "cell_type": "markdown",
   "id": "acc73b65",
   "metadata": {
    "editable": true,
    "jp-MarkdownHeadingCollapsed": true,
    "slideshow": {
     "slide_type": "slide"
    },
    "tags": []
   },
   "source": [
    "# Understandable code\n",
    "Variable Names + Comments = *Understandable*\n",
    "\n",
    "<div class=\"alert alert-warning\">You will spend <strong>much more time reading code</strong> (<em>including your own</em>) than writing it.</div>\n",
    "\n",
    "<font color=\"dodgerblue\">**Well commented**</font> code with <font color=\"dodgerblue\">**informative variable names**</font> is essential for others (*and also yourself a month or a year from now*) to understand what your code does."
   ]
  },
  {
   "cell_type": "markdown",
   "id": "1b2c53af",
   "metadata": {
    "cell_style": "split",
    "editable": true,
    "slideshow": {
     "slide_type": "slide"
    },
    "tags": []
   },
   "source": [
    "<img src=\"images/what-was-i-doing.jpg\" width=50%>"
   ]
  },
  {
   "cell_type": "markdown",
   "id": "24fc7bb9",
   "metadata": {
    "editable": true,
    "slideshow": {
     "slide_type": "slide"
    },
    "tags": []
   },
   "source": [
    "# Basic operations\n",
    "**Learning goals**\n",
    "- You will be able to do math and concatenate strings."
   ]
  },
  {
   "cell_type": "code",
   "execution_count": 17,
   "id": "efb73e51",
   "metadata": {
    "cell_style": "center",
    "editable": true,
    "slideshow": {
     "slide_type": "slide"
    },
    "tags": []
   },
   "outputs": [
    {
     "name": "stdout",
     "output_type": "stream",
     "text": [
      "5\n",
      "1\n",
      "6\n",
      "1.5\n",
      "9\n"
     ]
    }
   ],
   "source": [
    "print(3 + 2)\n",
    "print(3 - 2)\n",
    "print(3 * 2)\n",
    "print(3 / 2)\n",
    "print(3**2)  # !!! NOT 3^2"
   ]
  },
  {
   "cell_type": "markdown",
   "id": "e8e3dc18",
   "metadata": {
    "editable": true,
    "slideshow": {
     "slide_type": "fragment"
    },
    "tags": []
   },
   "source": [
    "<div class=\"alert alert-info\"><strong>Whitespace does NOT matter!</strong></div>"
   ]
  },
  {
   "cell_type": "code",
   "execution_count": 18,
   "id": "2c2c6f05",
   "metadata": {
    "cell_style": "center",
    "editable": true,
    "slideshow": {
     "slide_type": "-"
    },
    "tags": []
   },
   "outputs": [
    {
     "name": "stdout",
     "output_type": "stream",
     "text": [
      "5\n",
      "1\n",
      "6\n",
      "1.5\n",
      "9\n"
     ]
    }
   ],
   "source": [
    "print(3 + 2)\n",
    "print(3-2)\n",
    "print( 3 * 2 )\n",
    "print(3   /2)\n",
    "print (3 ** 2)"
   ]
  },
  {
   "cell_type": "markdown",
   "id": "fadfffc4",
   "metadata": {
    "editable": true,
    "slideshow": {
     "slide_type": "slide"
    },
    "tags": []
   },
   "source": [
    "<div class=\"alert alert-info\"><strong>Whitespace does NOT matter</strong> (except for <em>new lines</em>).</div>"
   ]
  },
  {
   "cell_type": "code",
   "execution_count": 19,
   "id": "0521010d",
   "metadata": {
    "editable": true,
    "slideshow": {
     "slide_type": ""
    },
    "tags": []
   },
   "outputs": [
    {
     "name": "stdout",
     "output_type": "stream",
     "text": [
      "5\n",
      "1\n"
     ]
    }
   ],
   "source": [
    "print(3 + 2)\n",
    "print(3 - 2)"
   ]
  },
  {
   "cell_type": "code",
   "execution_count": 20,
   "id": "182394bf",
   "metadata": {
    "editable": true,
    "slideshow": {
     "slide_type": ""
    },
    "tags": [
     "raises-exception"
    ]
   },
   "outputs": [
    {
     "ename": "SyntaxError",
     "evalue": "invalid syntax (1392265258.py, line 1)",
     "output_type": "error",
     "traceback": [
      "\u001b[0;36m  Cell \u001b[0;32mIn[20], line 1\u001b[0;36m\u001b[0m\n\u001b[0;31m    print(3 + 2) print(3 - 2)\u001b[0m\n\u001b[0m                 ^\u001b[0m\n\u001b[0;31mSyntaxError\u001b[0m\u001b[0;31m:\u001b[0m invalid syntax\n"
     ]
    }
   ],
   "source": [
    "print(3 + 2) print(3 - 2)"
   ]
  },
  {
   "cell_type": "markdown",
   "id": "90648c64",
   "metadata": {
    "slideshow": {
     "slide_type": "slide"
    }
   },
   "source": [
    "<div class=\"alert alert-info\"><strong>Whitespace does NOT matter</strong> (except for <em>new lines</em> and <em>line indentation</em>).</div>"
   ]
  },
  {
   "cell_type": "code",
   "execution_count": 21,
   "id": "9fa3980f",
   "metadata": {
    "editable": true,
    "slideshow": {
     "slide_type": ""
    },
    "tags": []
   },
   "outputs": [
    {
     "name": "stdout",
     "output_type": "stream",
     "text": [
      "5\n",
      "1\n"
     ]
    }
   ],
   "source": [
    "print(3 + 2)\n",
    "print(3 - 2)"
   ]
  },
  {
   "cell_type": "code",
   "execution_count": 22,
   "id": "0d2b4587",
   "metadata": {
    "editable": true,
    "slideshow": {
     "slide_type": ""
    },
    "tags": [
     "raises-exception"
    ]
   },
   "outputs": [
    {
     "ename": "IndentationError",
     "evalue": "unexpected indent (1976710117.py, line 2)",
     "output_type": "error",
     "traceback": [
      "\u001b[0;36m  Cell \u001b[0;32mIn[22], line 2\u001b[0;36m\u001b[0m\n\u001b[0;31m    print(3 - 2)\u001b[0m\n\u001b[0m    ^\u001b[0m\n\u001b[0;31mIndentationError\u001b[0m\u001b[0;31m:\u001b[0m unexpected indent\n"
     ]
    }
   ],
   "source": [
    "print(3 + 2)\n",
    "    print(3 - 2)"
   ]
  },
  {
   "cell_type": "markdown",
   "id": "8d8b823b",
   "metadata": {
    "slideshow": {
     "slide_type": "slide"
    }
   },
   "source": [
    "A few more operations."
   ]
  },
  {
   "cell_type": "code",
   "execution_count": 23,
   "id": "b50cfa9b",
   "metadata": {
    "cell_style": "center",
    "slideshow": {
     "slide_type": "-"
    }
   },
   "outputs": [
    {
     "data": {
      "text/plain": [
       "10"
      ]
     },
     "execution_count": 23,
     "metadata": {},
     "output_type": "execute_result"
    }
   ],
   "source": [
    "(3 + 2) * 2"
   ]
  },
  {
   "cell_type": "code",
   "execution_count": 24,
   "id": "9955c91f",
   "metadata": {
    "cell_style": "center"
   },
   "outputs": [
    {
     "data": {
      "text/plain": [
       "'howdy there'"
      ]
     },
     "execution_count": 24,
     "metadata": {},
     "output_type": "execute_result"
    }
   ],
   "source": [
    "\"howdy\" + \" there\""
   ]
  },
  {
   "cell_type": "code",
   "execution_count": 25,
   "id": "20a2e99f",
   "metadata": {
    "cell_style": "center",
    "slideshow": {
     "slide_type": "fragment"
    }
   },
   "outputs": [
    {
     "data": {
      "text/plain": [
       "2"
      ]
     },
     "execution_count": 25,
     "metadata": {},
     "output_type": "execute_result"
    }
   ],
   "source": [
    "# floor division\n",
    "\n",
    "11 // 4"
   ]
  },
  {
   "cell_type": "code",
   "execution_count": 26,
   "id": "207baae1",
   "metadata": {
    "cell_style": "center"
   },
   "outputs": [
    {
     "data": {
      "text/plain": [
       "3"
      ]
     },
     "execution_count": 26,
     "metadata": {},
     "output_type": "execute_result"
    }
   ],
   "source": [
    "# modulus = remainder after floor division\n",
    "\n",
    "11 % 4"
   ]
  },
  {
   "cell_type": "markdown",
   "id": "df76d51a",
   "metadata": {
    "slideshow": {
     "slide_type": "slide"
    }
   },
   "source": [
    "Operations should make sense."
   ]
  },
  {
   "cell_type": "code",
   "execution_count": 27,
   "id": "618bdd93",
   "metadata": {},
   "outputs": [
    {
     "data": {
      "text/plain": [
       "7"
      ]
     },
     "execution_count": 27,
     "metadata": {},
     "output_type": "execute_result"
    }
   ],
   "source": [
    "5 + 2"
   ]
  },
  {
   "cell_type": "code",
   "execution_count": 28,
   "id": "35bc27a8",
   "metadata": {
    "editable": true,
    "slideshow": {
     "slide_type": ""
    },
    "tags": [
     "raises-exception"
    ]
   },
   "outputs": [
    {
     "ename": "TypeError",
     "evalue": "unsupported operand type(s) for +: 'int' and 'str'",
     "output_type": "error",
     "traceback": [
      "\u001b[0;31m---------------------------------------------------------------------------\u001b[0m",
      "\u001b[0;31mTypeError\u001b[0m                                 Traceback (most recent call last)",
      "Cell \u001b[0;32mIn[28], line 1\u001b[0m\n\u001b[0;32m----> 1\u001b[0m \u001b[38;5;241;43m5\u001b[39;49m\u001b[43m \u001b[49m\u001b[38;5;241;43m+\u001b[39;49m\u001b[43m \u001b[49m\u001b[38;5;124;43m\"\u001b[39;49m\u001b[38;5;124;43mtwo\u001b[39;49m\u001b[38;5;124;43m\"\u001b[39;49m\n",
      "\u001b[0;31mTypeError\u001b[0m: unsupported operand type(s) for +: 'int' and 'str'"
     ]
    }
   ],
   "source": [
    "5 + \"two\""
   ]
  },
  {
   "cell_type": "code",
   "execution_count": 29,
   "id": "4c5aa237",
   "metadata": {
    "slideshow": {
     "slide_type": "fragment"
    }
   },
   "outputs": [
    {
     "data": {
      "text/plain": [
       "'twotwotwotwotwo'"
      ]
     },
     "execution_count": 29,
     "metadata": {},
     "output_type": "execute_result"
    }
   ],
   "source": [
    "5 * \"two\""
   ]
  },
  {
   "cell_type": "markdown",
   "id": "a9eabbb0",
   "metadata": {
    "slideshow": {
     "slide_type": "slide"
    }
   },
   "source": [
    "Some shorthand for operations on variables."
   ]
  },
  {
   "cell_type": "code",
   "execution_count": 30,
   "id": "9689b7b0",
   "metadata": {},
   "outputs": [],
   "source": [
    "x = 3"
   ]
  },
  {
   "cell_type": "code",
   "execution_count": 31,
   "id": "ec8515b6",
   "metadata": {},
   "outputs": [
    {
     "data": {
      "text/plain": [
       "5"
      ]
     },
     "execution_count": 31,
     "metadata": {},
     "output_type": "execute_result"
    }
   ],
   "source": [
    "# x = x + 2\n",
    "x += 2\n",
    "x"
   ]
  },
  {
   "cell_type": "code",
   "execution_count": 32,
   "id": "c9c7115a",
   "metadata": {
    "slideshow": {
     "slide_type": "fragment"
    }
   },
   "outputs": [
    {
     "data": {
      "text/plain": [
       "3"
      ]
     },
     "execution_count": 32,
     "metadata": {},
     "output_type": "execute_result"
    }
   ],
   "source": [
    "x -= 2\n",
    "x"
   ]
  },
  {
   "cell_type": "code",
   "execution_count": 33,
   "id": "ab344155",
   "metadata": {},
   "outputs": [
    {
     "data": {
      "text/plain": [
       "6"
      ]
     },
     "execution_count": 33,
     "metadata": {},
     "output_type": "execute_result"
    }
   ],
   "source": [
    "x *= 2\n",
    "x"
   ]
  },
  {
   "cell_type": "code",
   "execution_count": 34,
   "id": "29464314",
   "metadata": {},
   "outputs": [
    {
     "data": {
      "text/plain": [
       "3.0"
      ]
     },
     "execution_count": 34,
     "metadata": {},
     "output_type": "execute_result"
    }
   ],
   "source": [
    "x /= 2\n",
    "x"
   ]
  },
  {
   "cell_type": "markdown",
   "id": "34c2977a",
   "metadata": {
    "editable": true,
    "slideshow": {
     "slide_type": "slide"
    },
    "tags": []
   },
   "source": [
    "# Logical comparison\n",
    "**Learning goals**\n",
    "- You will be able to compare things."
   ]
  },
  {
   "cell_type": "code",
   "execution_count": 35,
   "id": "79d5bf08",
   "metadata": {
    "cell_style": "center",
    "editable": true,
    "slideshow": {
     "slide_type": "slide"
    },
    "tags": []
   },
   "outputs": [
    {
     "data": {
      "text/plain": [
       "True"
      ]
     },
     "execution_count": 35,
     "metadata": {},
     "output_type": "execute_result"
    }
   ],
   "source": [
    "3 == 3"
   ]
  },
  {
   "cell_type": "code",
   "execution_count": 36,
   "id": "c02397de",
   "metadata": {
    "cell_style": "center"
   },
   "outputs": [
    {
     "data": {
      "text/plain": [
       "False"
      ]
     },
     "execution_count": 36,
     "metadata": {},
     "output_type": "execute_result"
    }
   ],
   "source": [
    "3 != 3"
   ]
  },
  {
   "cell_type": "code",
   "execution_count": 37,
   "id": "b8fab700",
   "metadata": {
    "cell_style": "center",
    "slideshow": {
     "slide_type": "fragment"
    }
   },
   "outputs": [
    {
     "data": {
      "text/plain": [
       "False"
      ]
     },
     "execution_count": 37,
     "metadata": {},
     "output_type": "execute_result"
    }
   ],
   "source": [
    "3 > 4"
   ]
  },
  {
   "cell_type": "code",
   "execution_count": 38,
   "id": "22ac8eeb",
   "metadata": {
    "cell_style": "center"
   },
   "outputs": [
    {
     "data": {
      "text/plain": [
       "True"
      ]
     },
     "execution_count": 38,
     "metadata": {},
     "output_type": "execute_result"
    }
   ],
   "source": [
    "3 <= 3"
   ]
  },
  {
   "cell_type": "code",
   "execution_count": 39,
   "id": "9ccdd5c7",
   "metadata": {
    "slideshow": {
     "slide_type": "fragment"
    }
   },
   "outputs": [
    {
     "data": {
      "text/plain": [
       "(False, True)"
      ]
     },
     "execution_count": 39,
     "metadata": {},
     "output_type": "execute_result"
    }
   ],
   "source": [
    "\"hi\" == \"hello\", \"hi\" != \"hello\""
   ]
  },
  {
   "cell_type": "code",
   "execution_count": 40,
   "id": "d7d3c5bb",
   "metadata": {
    "cell_style": "center",
    "slideshow": {
     "slide_type": "slide"
    }
   },
   "outputs": [
    {
     "data": {
      "text/plain": [
       "False"
      ]
     },
     "execution_count": 40,
     "metadata": {},
     "output_type": "execute_result"
    }
   ],
   "source": [
    "3 < 4 and 3 == 4"
   ]
  },
  {
   "cell_type": "code",
   "execution_count": 41,
   "id": "4a18d838",
   "metadata": {
    "cell_style": "center"
   },
   "outputs": [
    {
     "data": {
      "text/plain": [
       "True"
      ]
     },
     "execution_count": 41,
     "metadata": {},
     "output_type": "execute_result"
    }
   ],
   "source": [
    "3 == 4 or 3 <= 4"
   ]
  },
  {
   "cell_type": "code",
   "execution_count": 42,
   "id": "f666d9bc",
   "metadata": {
    "cell_style": "center"
   },
   "outputs": [
    {
     "data": {
      "text/plain": [
       "True"
      ]
     },
     "execution_count": 42,
     "metadata": {},
     "output_type": "execute_result"
    }
   ],
   "source": [
    "not 3 == 4"
   ]
  },
  {
   "cell_type": "code",
   "execution_count": 43,
   "id": "e7c203d9",
   "metadata": {
    "cell_style": "center",
    "slideshow": {
     "slide_type": "fragment"
    }
   },
   "outputs": [
    {
     "data": {
      "text/plain": [
       "True"
      ]
     },
     "execution_count": 43,
     "metadata": {},
     "output_type": "execute_result"
    }
   ],
   "source": [
    "3 < 4 and not (3 == 4 or 4 <= 3)"
   ]
  },
  {
   "cell_type": "markdown",
   "id": "fd7e18ae",
   "metadata": {
    "slideshow": {
     "slide_type": "slide"
    }
   },
   "source": [
    "This is pretty neat!"
   ]
  },
  {
   "cell_type": "code",
   "execution_count": 44,
   "id": "bc69b693",
   "metadata": {},
   "outputs": [
    {
     "data": {
      "text/plain": [
       "True"
      ]
     },
     "execution_count": 44,
     "metadata": {},
     "output_type": "execute_result"
    }
   ],
   "source": [
    "x = 3\n",
    "\n",
    "2 < x < 4"
   ]
  },
  {
   "cell_type": "markdown",
   "id": "ed90f30a",
   "metadata": {
    "editable": true,
    "slideshow": {
     "slide_type": "slide"
    },
    "tags": []
   },
   "source": [
    "# Exercise\n",
    "\n",
    "<div class=\"alert alert-info\">\n",
    "    On average, neuron A spikes 3.4 times per second, whereas neuron B spikes 11.9 times per second.\n",
    "</div>\n",
    "\n",
    "1. Assign two variables for the average spike rates of neurons A and B, respectively.\n",
    "2. Use your two variables to assign a third variable for whether or not neuron A spikes faster that neuron B on average."
   ]
  },
  {
   "cell_type": "code",
   "execution_count": null,
   "id": "f5a7e1e7",
   "metadata": {},
   "outputs": [],
   "source": []
  },
  {
   "cell_type": "markdown",
   "id": "a05ddcf0",
   "metadata": {
    "slideshow": {
     "slide_type": "slide"
    }
   },
   "source": [
    "# Exercise Key\n",
    "\n",
    "<div class=\"alert alert-info\">\n",
    "    On average, neuron A spikes 3.4 times per second, whereas neuron B spikes 11.9 times per second.\n",
    "</div>\n",
    "\n",
    "1. Assign two variables for the average spike rates of neurons A and B, respectively.\n",
    "2. Use your two variables to assign a third variable for whether or not neuron A spikes faster that neuron B on average."
   ]
  },
  {
   "cell_type": "code",
   "execution_count": 45,
   "id": "8c175c20",
   "metadata": {
    "slideshow": {
     "slide_type": "-"
    }
   },
   "outputs": [
    {
     "data": {
      "text/plain": [
       "False"
      ]
     },
     "execution_count": 45,
     "metadata": {},
     "output_type": "execute_result"
    }
   ],
   "source": [
    "# These variable names are just an example.\n",
    "# It is OK if your variable names differ, \n",
    "# so long as they are understandable.\n",
    "\n",
    "spike_rate_A = 3.4\n",
    "spike_rate_B = 11.9\n",
    "is_A_faster_than_B = spike_rate_A > spike_rate_B\n",
    "\n",
    "is_A_faster_than_B"
   ]
  },
  {
   "cell_type": "markdown",
   "id": "c98b6792",
   "metadata": {
    "editable": true,
    "slideshow": {
     "slide_type": "slide"
    },
    "tags": []
   },
   "source": [
    "# Conditional code blocks\n",
    "**Learning goals**\n",
    "- You will understand python's code block architecture.\n",
    "- You will be able to conditionally execute code blocks."
   ]
  },
  {
   "cell_type": "code",
   "execution_count": 46,
   "id": "eab12a68",
   "metadata": {
    "cell_style": "split",
    "editable": true,
    "slideshow": {
     "slide_type": "slide"
    },
    "tags": []
   },
   "outputs": [
    {
     "name": "stdout",
     "output_type": "stream",
     "text": [
      "I'm NOT in the block.\n"
     ]
    }
   ],
   "source": [
    "execute_block = False\n",
    "\n",
    "if execute_block:\n",
    "    print(\"I'm in the block.\")\n",
    "    print(\"I'm also in the block.\")\n",
    "\n",
    "    print(\"I'm still in the block.\")\n",
    "print(\"I'm NOT in the block.\")"
   ]
  },
  {
   "cell_type": "code",
   "execution_count": 47,
   "id": "f7456381",
   "metadata": {
    "cell_style": "split",
    "editable": true,
    "slideshow": {
     "slide_type": "slide"
    },
    "tags": []
   },
   "outputs": [
    {
     "name": "stdout",
     "output_type": "stream",
     "text": [
      "I'm in the block.\n",
      "I'm also in the block.\n",
      "I'm still in the block.\n",
      "I'm NOT in the block.\n"
     ]
    }
   ],
   "source": [
    "do_this = True\n",
    "\n",
    "if do_this:\n",
    "    print(\"I'm in the block.\")\n",
    "    print(\"I'm also in the block.\")\n",
    "\n",
    "    print(\"I'm still in the block.\")\n",
    "print(\"I'm NOT in the block.\")"
   ]
  },
  {
   "cell_type": "markdown",
   "id": "4eed68aa",
   "metadata": {
    "editable": true,
    "slideshow": {
     "slide_type": "slide"
    },
    "tags": []
   },
   "source": [
    "### `if-elif-else` code block"
   ]
  },
  {
   "cell_type": "code",
   "execution_count": 48,
   "id": "6d43fe8f",
   "metadata": {
    "editable": true,
    "slideshow": {
     "slide_type": ""
    },
    "tags": []
   },
   "outputs": [
    {
     "name": "stdout",
     "output_type": "stream",
     "text": [
      "not a cat\n",
      "not a dog\n",
      "not a bird\n"
     ]
    }
   ],
   "source": [
    "animal = \"fish\"\n",
    "\n",
    "if animal == \"cat\":\n",
    "    print('meow')\n",
    "elif animal == \"dog\":\n",
    "    \n",
    "    print('bark')\n",
    "    \n",
    "elif animal == \"bird\":\n",
    "    pass  # do nothing\n",
    "else:\n",
    "    print('not a cat')\n",
    "    \n",
    "    print('not a dog')\n",
    "    print('not a bird')"
   ]
  },
  {
   "cell_type": "markdown",
   "id": "e7d04316",
   "metadata": {
    "slideshow": {
     "slide_type": "slide"
    }
   },
   "source": [
    "# Exercise\n",
    "\n",
    "<div class=\"alert alert-info\">\n",
    "    Write code that prints \"negative\", \"zero\" or \"positive\" depending on whatever value x is assigned.\n",
    "</div>"
   ]
  },
  {
   "cell_type": "code",
   "execution_count": 49,
   "id": "c0d34507",
   "metadata": {},
   "outputs": [],
   "source": [
    "x = -2.1\n",
    "\n",
    "# your code here..."
   ]
  },
  {
   "cell_type": "markdown",
   "id": "a9efba7f",
   "metadata": {
    "slideshow": {
     "slide_type": "slide"
    }
   },
   "source": [
    "# Exercise Key\n",
    "\n",
    "<div class=\"alert alert-info\">\n",
    "    Write code that prints \"negative\", \"zero\" or \"positive\" depending on whatever value x is assigned.\n",
    "</div>"
   ]
  },
  {
   "cell_type": "code",
   "execution_count": 50,
   "id": "1d3b52c9",
   "metadata": {},
   "outputs": [
    {
     "name": "stdout",
     "output_type": "stream",
     "text": [
      "negative\n"
     ]
    }
   ],
   "source": [
    "x = -2.1\n",
    "\n",
    "if x == 0:\n",
    "    print(\"zero\")\n",
    "elif x < 0:\n",
    "    print(\"negative\")\n",
    "else:\n",
    "    print(\"positive\")"
   ]
  },
  {
   "cell_type": "markdown",
   "id": "eefa4be2",
   "metadata": {
    "editable": true,
    "slideshow": {
     "slide_type": "slide"
    },
    "tags": []
   },
   "source": [
    "# Nested code blocks\n",
    "\n",
    "*Indentation* defines how **Python organizes all code into blocks**.\n",
    "\n",
    "<img src=\"images/nested-blocks.drawio.svg\">"
   ]
  },
  {
   "cell_type": "markdown",
   "id": "24aaefa3",
   "metadata": {
    "editable": true,
    "slideshow": {
     "slide_type": "slide"
    },
    "tags": []
   },
   "source": [
    "<img src=\"images/nested-if-else.png\">"
   ]
  },
  {
   "cell_type": "markdown",
   "id": "85375752-88c8-438d-bf4e-e727798fbd7d",
   "metadata": {
    "editable": true,
    "slideshow": {
     "slide_type": "slide"
    },
    "tags": []
   },
   "source": [
    "# List\n",
    "**Learning goals**\n",
    "- You will be able to work with lists of items.\n",
    "- You will be able to index/slice into a list."
   ]
  },
  {
   "cell_type": "code",
   "execution_count": 51,
   "id": "51267d9d-4036-44d4-a75f-d486cbcea200",
   "metadata": {
    "editable": true,
    "slideshow": {
     "slide_type": "slide"
    },
    "tags": []
   },
   "outputs": [
    {
     "data": {
      "text/plain": [
       "[1, 2, 3.4, 'hi', True]"
      ]
     },
     "execution_count": 51,
     "metadata": {},
     "output_type": "execute_result"
    }
   ],
   "source": [
    "alist = [1, 2, 3.4, \"hi\", True]\n",
    "alist"
   ]
  },
  {
   "cell_type": "code",
   "execution_count": 52,
   "id": "32b3f1e2-a11a-4a57-a9fb-53b6c9d5301d",
   "metadata": {
    "slideshow": {
     "slide_type": "fragment"
    }
   },
   "outputs": [
    {
     "data": {
      "text/plain": [
       "5"
      ]
     },
     "execution_count": 52,
     "metadata": {},
     "output_type": "execute_result"
    }
   ],
   "source": [
    "len(alist)"
   ]
  },
  {
   "cell_type": "code",
   "execution_count": 53,
   "id": "b2a457a8-c6f0-4ce8-81f4-2995f995a421",
   "metadata": {
    "slideshow": {
     "slide_type": "fragment"
    }
   },
   "outputs": [
    {
     "data": {
      "text/plain": [
       "0"
      ]
     },
     "execution_count": 53,
     "metadata": {},
     "output_type": "execute_result"
    }
   ],
   "source": [
    "blist = []\n",
    "len(blist)"
   ]
  },
  {
   "cell_type": "code",
   "execution_count": 54,
   "id": "8930c0e1-82a5-4b95-bb78-3e83a7bc704f",
   "metadata": {
    "slideshow": {
     "slide_type": "fragment"
    }
   },
   "outputs": [
    {
     "data": {
      "text/plain": [
       "[2, 5.4, False]"
      ]
     },
     "execution_count": 54,
     "metadata": {},
     "output_type": "execute_result"
    }
   ],
   "source": [
    "blist.append(2)             # append a single value\n",
    "blist.extend([5.4, False])  # extend by a list of values\n",
    "blist"
   ]
  },
  {
   "cell_type": "code",
   "execution_count": 55,
   "id": "3f75ee22-8ac9-4738-b865-932d2e33a08c",
   "metadata": {
    "slideshow": {
     "slide_type": "fragment"
    }
   },
   "outputs": [
    {
     "data": {
      "text/plain": [
       "[5.4, False]"
      ]
     },
     "execution_count": 55,
     "metadata": {},
     "output_type": "execute_result"
    }
   ],
   "source": [
    "blist.remove(2)\n",
    "blist"
   ]
  },
  {
   "cell_type": "markdown",
   "id": "84493646-4ba8-4379-b406-8422d29f62e5",
   "metadata": {
    "editable": true,
    "slideshow": {
     "slide_type": "slide"
    },
    "tags": []
   },
   "source": [
    "### List unpacking"
   ]
  },
  {
   "cell_type": "code",
   "execution_count": 56,
   "id": "ca96a1c1-3503-427e-85ef-30d49aa336a5",
   "metadata": {
    "editable": true,
    "slideshow": {
     "slide_type": ""
    },
    "tags": []
   },
   "outputs": [
    {
     "name": "stdout",
     "output_type": "stream",
     "text": [
      "1\n",
      "hi\n",
      "True\n"
     ]
    }
   ],
   "source": [
    "mylist = [1, \"hi\", True]\n",
    "\n",
    "a, b, c = mylist\n",
    "\n",
    "print(a)\n",
    "print(b)\n",
    "print(c)"
   ]
  },
  {
   "cell_type": "markdown",
   "id": "168df954-f394-4450-91c3-8eb2b931eb33",
   "metadata": {
    "cell_style": "split",
    "editable": true,
    "slideshow": {
     "slide_type": "slide"
    },
    "tags": []
   },
   "source": [
    "### List indexing\n",
    "\n",
    "<img src=\"images/list-indexing.drawio.svg\" width=\"90%\">"
   ]
  },
  {
   "cell_type": "code",
   "execution_count": 57,
   "id": "902a3fc0-7db5-4ffb-85ce-7ad79d613f31",
   "metadata": {
    "cell_style": "split",
    "editable": true,
    "slideshow": {
     "slide_type": "slide"
    },
    "tags": []
   },
   "outputs": [
    {
     "data": {
      "text/plain": [
       "1"
      ]
     },
     "execution_count": 57,
     "metadata": {},
     "output_type": "execute_result"
    }
   ],
   "source": [
    "mylist = [1, 2, 3.4, \"hi\", True]\n",
    "\n",
    "mylist[0]"
   ]
  },
  {
   "cell_type": "code",
   "execution_count": 58,
   "id": "3b8684d2-f59a-42f0-ab96-d3f30f7cd569",
   "metadata": {
    "cell_style": "split",
    "slideshow": {
     "slide_type": "fragment"
    }
   },
   "outputs": [
    {
     "data": {
      "text/plain": [
       "(1, 2, True, 'hi')"
      ]
     },
     "execution_count": 58,
     "metadata": {},
     "output_type": "execute_result"
    }
   ],
   "source": [
    "mylist[0], mylist[1], mylist[-1], mylist[-2]"
   ]
  },
  {
   "cell_type": "markdown",
   "id": "bfa0eb50-d6ed-4986-8b15-6609cfe98e6e",
   "metadata": {
    "slideshow": {
     "slide_type": "slide"
    }
   },
   "source": [
    "# Exercise\n",
    "\n",
    "<div class=\"alert alert-info\">\n",
    "    Use list indexing to assign the specified subjects in from the given list of subjects.\n",
    "</div>"
   ]
  },
  {
   "cell_type": "code",
   "execution_count": 59,
   "id": "962f29b4-76fc-41b9-b37e-68290f793559",
   "metadata": {},
   "outputs": [],
   "source": [
    "subjects = [\"M0159\", \"F0287\", \"FBEST\", \"MALZ\", \"FOG17\"]\n",
    "\n",
    "# first_subject = ...\n",
    "# second_subject = ...\n",
    "# second_to_last_subject = ...\n",
    "# last_subject = ..."
   ]
  },
  {
   "cell_type": "markdown",
   "id": "06e1687c-c2e9-49a1-bea0-88d502433367",
   "metadata": {
    "slideshow": {
     "slide_type": "slide"
    }
   },
   "source": [
    "# Exercise Key\n",
    "\n",
    "<div class=\"alert alert-info\">\n",
    "    Use list indexing to assign the specified subjects in from the given list of subjects.\n",
    "</div>"
   ]
  },
  {
   "cell_type": "code",
   "execution_count": 60,
   "id": "6d850c79-cdc2-4fb0-ac93-d99fc565563a",
   "metadata": {},
   "outputs": [],
   "source": [
    "subjects = [\"M0159\", \"F0287\", \"FBEST\", \"MALZ\", \"FOG17\"]\n",
    "\n",
    "first_subject = subjects[0]\n",
    "second_subject = subjects[1]\n",
    "second_to_last_subject = subjects[-2]\n",
    "last_subject = subjects[-1]"
   ]
  },
  {
   "cell_type": "markdown",
   "id": "df53731b-4069-454b-b320-daf0c8192f87",
   "metadata": {
    "slideshow": {
     "slide_type": "slide"
    }
   },
   "source": [
    "You can use a variable to index into a list."
   ]
  },
  {
   "cell_type": "code",
   "execution_count": 61,
   "id": "f3401418-cb32-43aa-ab3c-5ce5b43d8e40",
   "metadata": {},
   "outputs": [
    {
     "data": {
      "text/plain": [
       "'hi'"
      ]
     },
     "execution_count": 61,
     "metadata": {},
     "output_type": "execute_result"
    }
   ],
   "source": [
    "mylist = [1, 2, 3.4, \"hi\", True]\n",
    "\n",
    "i = 3\n",
    "\n",
    "mylist[i]"
   ]
  },
  {
   "cell_type": "markdown",
   "id": "ff025089-f639-4ea6-bef3-ff1bdf981ab8",
   "metadata": {
    "slideshow": {
     "slide_type": "fragment"
    }
   },
   "source": [
    "You can edit list items via their index."
   ]
  },
  {
   "cell_type": "code",
   "execution_count": 62,
   "id": "966be19c-4697-4531-9f65-561c3612ba11",
   "metadata": {},
   "outputs": [
    {
     "data": {
      "text/plain": [
       "[-1, 2, 3.4, 'bye', True]"
      ]
     },
     "execution_count": 62,
     "metadata": {},
     "output_type": "execute_result"
    }
   ],
   "source": [
    "mylist[i] = \"bye\"\n",
    "mylist[0] = mylist[0] - 2\n",
    "\n",
    "mylist"
   ]
  },
  {
   "cell_type": "markdown",
   "id": "9ee55d90-a467-4fda-a52c-f060056936fe",
   "metadata": {
    "slideshow": {
     "slide_type": "slide"
    }
   },
   "source": [
    "You can insert and delete list items via their index."
   ]
  },
  {
   "cell_type": "code",
   "execution_count": 63,
   "id": "d63c4371-e9c4-4579-af89-59a2a2b0b238",
   "metadata": {},
   "outputs": [
    {
     "data": {
      "text/plain": [
       "[1, 800, 2, 3.4, 'hi', True]"
      ]
     },
     "execution_count": 63,
     "metadata": {},
     "output_type": "execute_result"
    }
   ],
   "source": [
    "mylist = [1, 2, 3.4, \"hi\", True]\n",
    "\n",
    "mylist.insert(1, 800)\n",
    "\n",
    "mylist"
   ]
  },
  {
   "cell_type": "code",
   "execution_count": 64,
   "id": "bfe7a12a-f0b9-4a56-ad07-0d3fc0e910bb",
   "metadata": {},
   "outputs": [
    {
     "data": {
      "text/plain": [
       "[1, 800, 2, 'hi', True]"
      ]
     },
     "execution_count": 64,
     "metadata": {},
     "output_type": "execute_result"
    }
   ],
   "source": [
    "del mylist[-3]\n",
    "\n",
    "mylist"
   ]
  },
  {
   "cell_type": "markdown",
   "id": "e3ba46d5-63c7-4593-809d-2a80977afcfe",
   "metadata": {
    "editable": true,
    "slideshow": {
     "slide_type": "slide"
    },
    "tags": []
   },
   "source": [
    "### List slicing\n",
    "\n",
    "    list[start:stop]\n",
    "    list[start:stop:step]\n",
    "\n",
    "<img src=\"images/list-slicing.drawio.svg\" width=\"80%\">"
   ]
  },
  {
   "cell_type": "markdown",
   "id": "b1347506-666e-496c-bd0d-74820e0b6119",
   "metadata": {
    "editable": true,
    "slideshow": {
     "slide_type": "slide"
    },
    "tags": []
   },
   "source": [
    "    list[start:stop]\n",
    "    list[start:stop:step]"
   ]
  },
  {
   "cell_type": "code",
   "execution_count": 65,
   "id": "6b9832a5-8587-457d-9dc7-6c1b7905cf38",
   "metadata": {},
   "outputs": [
    {
     "data": {
      "text/plain": [
       "[2, 3.4, 'hi']"
      ]
     },
     "execution_count": 65,
     "metadata": {},
     "output_type": "execute_result"
    }
   ],
   "source": [
    "mylist = [1, 2, 3.4, \"hi\", True, 5, 82, 99]\n",
    "\n",
    "# 1:4 ==> 1,2,3\n",
    "\n",
    "mylist[1:4]"
   ]
  },
  {
   "cell_type": "code",
   "execution_count": 66,
   "id": "f89c0e53-68bf-419c-aab0-cc0d13e4e3d4",
   "metadata": {},
   "outputs": [
    {
     "data": {
      "text/plain": [
       "[2, 'hi', 5]"
      ]
     },
     "execution_count": 66,
     "metadata": {},
     "output_type": "execute_result"
    }
   ],
   "source": [
    "# 1:7:2 ==> 1,3,5\n",
    "\n",
    "mylist[1:7:2]"
   ]
  },
  {
   "cell_type": "markdown",
   "id": "26730b02-42f4-4b43-9e81-87a017f5dd91",
   "metadata": {
    "editable": true,
    "slideshow": {
     "slide_type": "slide"
    },
    "tags": []
   },
   "source": [
    "### List slice defaults\n",
    "\n",
    "<img src=\"images/list-slicing-defaults.drawio.svg\" width=\"80%\">"
   ]
  },
  {
   "cell_type": "code",
   "execution_count": 67,
   "id": "8b834f75-a009-4705-b274-44f5f78f67e6",
   "metadata": {
    "editable": true,
    "slideshow": {
     "slide_type": "slide"
    },
    "tags": []
   },
   "outputs": [
    {
     "data": {
      "text/plain": [
       "[True, 5, 82, 99]"
      ]
     },
     "execution_count": 67,
     "metadata": {},
     "output_type": "execute_result"
    }
   ],
   "source": [
    "mylist = [1, 2, 3.4, \"hi\", True, 5, 82, 99]\n",
    "\n",
    "mylist[4:]  # index 4 and everything after"
   ]
  },
  {
   "cell_type": "code",
   "execution_count": 68,
   "id": "17c9b5e7-af6c-4e38-a7ef-9adad3d5061c",
   "metadata": {
    "slideshow": {
     "slide_type": "fragment"
    }
   },
   "outputs": [
    {
     "data": {
      "text/plain": [
       "[1, 2, 3.4, 'hi']"
      ]
     },
     "execution_count": 68,
     "metadata": {},
     "output_type": "execute_result"
    }
   ],
   "source": [
    "mylist[:4]  # everything before index 4"
   ]
  },
  {
   "cell_type": "code",
   "execution_count": 69,
   "id": "34a1bf67-21fa-4c71-896f-cf406edeaa82",
   "metadata": {
    "slideshow": {
     "slide_type": "fragment"
    }
   },
   "outputs": [
    {
     "data": {
      "text/plain": [
       "[1, 2, 3.4, 'hi', True, 5, 82, 99]"
      ]
     },
     "execution_count": 69,
     "metadata": {},
     "output_type": "execute_result"
    }
   ],
   "source": [
    "mylist[:]  # everything"
   ]
  },
  {
   "cell_type": "code",
   "execution_count": 70,
   "id": "bf710ab4-b9c2-4cf6-821c-c7861eab6943",
   "metadata": {
    "slideshow": {
     "slide_type": "fragment"
    }
   },
   "outputs": [
    {
     "data": {
      "text/plain": [
       "[1, 3.4, True, 82]"
      ]
     },
     "execution_count": 70,
     "metadata": {},
     "output_type": "execute_result"
    }
   ],
   "source": [
    "mylist[::2]  # every other item"
   ]
  },
  {
   "cell_type": "markdown",
   "id": "21a1179f-7195-44ff-98e5-156a15a4b08b",
   "metadata": {
    "slideshow": {
     "slide_type": "slide"
    }
   },
   "source": [
    "# Exercise\n",
    "\n",
    "<div class=\"alert alert-info\">\n",
    "    Use list slicing to get the odd or non-negative even numbers from the specified list.\n",
    "</div>"
   ]
  },
  {
   "cell_type": "code",
   "execution_count": 71,
   "id": "db27dfd5-b8b9-4a14-9947-6dda5174f4ff",
   "metadata": {},
   "outputs": [],
   "source": [
    "numbers = [-2, -1, 0, 1, 2, 3, 4, 5, 6, 7, 8, 9]\n",
    "\n",
    "# odds = numbers[...]\n",
    "# non_neg_evens = numbers[...]\n",
    "\n",
    "# odds, non_neg_evens"
   ]
  },
  {
   "cell_type": "markdown",
   "id": "b67a7040-36f7-4383-bd4b-c4ceb879a806",
   "metadata": {
    "slideshow": {
     "slide_type": "slide"
    }
   },
   "source": [
    "# Exercise Key\n",
    "\n",
    "<div class=\"alert alert-info\">\n",
    "    Use list slicing to get the odd or non-negative even numbers from the specified list.\n",
    "</div>"
   ]
  },
  {
   "cell_type": "code",
   "execution_count": 72,
   "id": "1defe409-68f1-44ba-b9bb-e932f8418b31",
   "metadata": {},
   "outputs": [
    {
     "data": {
      "text/plain": [
       "([-1, 1, 3, 5, 7, 9], [0, 2, 4, 6, 8])"
      ]
     },
     "execution_count": 72,
     "metadata": {},
     "output_type": "execute_result"
    }
   ],
   "source": [
    "numbers = [-2, -1, 0, 1, 2, 3, 4, 5, 6, 7, 8, 9]\n",
    "\n",
    "odds = numbers[1::2]\n",
    "non_neg_evens = numbers[2::2]\n",
    "\n",
    "odds, non_neg_evens"
   ]
  },
  {
   "cell_type": "markdown",
   "id": "b2de83d7-96ea-4a15-8688-65d02d7b01c7",
   "metadata": {
    "editable": true,
    "slideshow": {
     "slide_type": "slide"
    },
    "tags": []
   },
   "source": [
    "# Nested list"
   ]
  },
  {
   "cell_type": "code",
   "execution_count": 73,
   "id": "02242e97-1377-472a-86e5-3787febf5c22",
   "metadata": {
    "editable": true,
    "slideshow": {
     "slide_type": ""
    },
    "tags": []
   },
   "outputs": [
    {
     "data": {
      "text/plain": [
       "[1, 2, [3, 4]]"
      ]
     },
     "execution_count": 73,
     "metadata": {},
     "output_type": "execute_result"
    }
   ],
   "source": [
    "mylist = [1, 2, [3, 4]]\n",
    "\n",
    "mylist"
   ]
  },
  {
   "cell_type": "code",
   "execution_count": 74,
   "id": "df568bc2-82e4-4f65-b3bd-041e93589cb7",
   "metadata": {},
   "outputs": [
    {
     "data": {
      "text/plain": [
       "[3, 4]"
      ]
     },
     "execution_count": 74,
     "metadata": {},
     "output_type": "execute_result"
    }
   ],
   "source": [
    "mylist[2]"
   ]
  },
  {
   "cell_type": "code",
   "execution_count": 75,
   "id": "93e73640-bf96-40db-b2e0-c98d2f0bf8b3",
   "metadata": {},
   "outputs": [
    {
     "data": {
      "text/plain": [
       "4"
      ]
     },
     "execution_count": 75,
     "metadata": {},
     "output_type": "execute_result"
    }
   ],
   "source": [
    "mylist[2][-1]"
   ]
  },
  {
   "cell_type": "markdown",
   "id": "defcd572-f8b1-41b0-8ae2-be4c53fc072b",
   "metadata": {
    "slideshow": {
     "slide_type": "fragment"
    }
   },
   "source": [
    "<div class=\"alert alert-warning\">!!! This quickly becomes cumbersome with more than a few levels of nesting.</div>"
   ]
  },
  {
   "cell_type": "markdown",
   "id": "3fdfceef-5f5d-4669-a895-c94d5d9caa47",
   "metadata": {
    "editable": true,
    "slideshow": {
     "slide_type": "slide"
    },
    "tags": []
   },
   "source": [
    "# List comprehension\n",
    "**Learning goals**\n",
    "- You will be able to use simple list comprehensions."
   ]
  },
  {
   "cell_type": "markdown",
   "id": "b97f0617-351f-4623-b9b8-568eba67225b",
   "metadata": {
    "editable": true,
    "slideshow": {
     "slide_type": "slide"
    },
    "tags": []
   },
   "source": [
    "`[expression for item in collection]`"
   ]
  },
  {
   "cell_type": "code",
   "execution_count": 76,
   "id": "e97199ab-f8fc-424e-a00e-960c96acac4b",
   "metadata": {
    "editable": true,
    "slideshow": {
     "slide_type": ""
    },
    "tags": []
   },
   "outputs": [
    {
     "data": {
      "text/plain": [
       "[0, 1, 4, 9, 16, 25, 36, 49, 64, 81]"
      ]
     },
     "execution_count": 76,
     "metadata": {},
     "output_type": "execute_result"
    }
   ],
   "source": [
    "numbers = [0, 1, 2, 3, 4, 5, 6, 7, 8, 9]\n",
    "\n",
    "numbers_squared = [x**2 for x in numbers]\n",
    "\n",
    "numbers_squared"
   ]
  },
  {
   "cell_type": "markdown",
   "id": "e67016a6-3da1-4a2a-8a56-28f97d7f619e",
   "metadata": {
    "editable": true,
    "slideshow": {
     "slide_type": "fragment"
    },
    "tags": []
   },
   "source": [
    "`[expression for item in collection if condition]`"
   ]
  },
  {
   "cell_type": "code",
   "execution_count": 77,
   "id": "3363e3fa-1352-4b14-9eee-82b53d2947b0",
   "metadata": {},
   "outputs": [
    {
     "data": {
      "text/plain": [
       "[0, 3, 6, 9, 12]"
      ]
     },
     "execution_count": 77,
     "metadata": {},
     "output_type": "execute_result"
    }
   ],
   "source": [
    "[y * 3 for y in numbers if y < 5]"
   ]
  },
  {
   "cell_type": "markdown",
   "id": "851a9a5e-d5ef-4a08-8c52-1f1cd07dbd0a",
   "metadata": {
    "slideshow": {
     "slide_type": "fragment"
    }
   },
   "source": [
    "<div class=\"alert alert-warning\">!!! I recommend avoiding these except in the simplest cases as they can become hard to read.</div>"
   ]
  },
  {
   "cell_type": "markdown",
   "id": "4532820f-6b61-4bbc-9af3-4168ec97abb1",
   "metadata": {
    "slideshow": {
     "slide_type": "slide"
    }
   },
   "source": [
    "# Exercise\n",
    "\n",
    "<div class=\"alert alert-info\">\n",
    "    Use a list comprehension to get all numbers in the range 2 to 7 from the specified list.\n",
    "</div>"
   ]
  },
  {
   "cell_type": "code",
   "execution_count": 78,
   "id": "7972c5fa-6d6c-46e0-b103-821c3d8fdea5",
   "metadata": {},
   "outputs": [],
   "source": [
    "numbers = [-2, -1, 0, 1, 2, 3, 4, 5, 6, 7, 8, 9]\n",
    "\n",
    "# num2to7 = [...]\n",
    "\n",
    "# num2to7"
   ]
  },
  {
   "cell_type": "markdown",
   "id": "a93cae0e-535d-471d-a30a-a878ca9da362",
   "metadata": {
    "slideshow": {
     "slide_type": "slide"
    }
   },
   "source": [
    "# Exercise Key\n",
    "\n",
    "<div class=\"alert alert-info\">\n",
    "    Use a list comprehension to get all numbers in the range 2 to 7 from the specified list.\n",
    "</div>"
   ]
  },
  {
   "cell_type": "code",
   "execution_count": 79,
   "id": "71bf3fd3-9603-443d-97e5-b7cb99a4f402",
   "metadata": {},
   "outputs": [
    {
     "data": {
      "text/plain": [
       "[2, 3, 4, 5, 6, 7]"
      ]
     },
     "execution_count": 79,
     "metadata": {},
     "output_type": "execute_result"
    }
   ],
   "source": [
    "numbers = [-2, -1, 0, 1, 2, 3, 4, 5, 6, 7, 8, 9]\n",
    "\n",
    "num2to7 = [x for x in numbers if x >= 2 and x <= 7]\n",
    "\n",
    "num2to7"
   ]
  },
  {
   "cell_type": "markdown",
   "id": "91d543a0-f31a-4176-8ae2-ec43a98d480c",
   "metadata": {
    "editable": true,
    "slideshow": {
     "slide_type": "slide"
    },
    "tags": []
   },
   "source": [
    "# Dictionary\n",
    "**Learning goals**\n",
    "- ou will be able to work with a dictionary of (key, value) pairs.\n",
    "- You will be able to values by their key."
   ]
  },
  {
   "cell_type": "code",
   "execution_count": 80,
   "id": "a5e3a9d3-fc4e-4bc4-95d5-51b4b193d808",
   "metadata": {
    "editable": true,
    "slideshow": {
     "slide_type": "slide"
    },
    "tags": []
   },
   "outputs": [
    {
     "data": {
      "text/plain": [
       "{'cell-type': 'neuron',\n",
       " 'region': 'CA1',\n",
       " 'Fos-expression': 0.62,\n",
       " 'number of cells': 89}"
      ]
     },
     "execution_count": 80,
     "metadata": {},
     "output_type": "execute_result"
    }
   ],
   "source": [
    "params = {\n",
    "    \"cell-type\": \"neuron\", \n",
    "    \"region\": \"CA1\", \n",
    "    \"Fos-expression\": 0.62,\n",
    "    \"number of cells\": 89\n",
    "    }\n",
    "\n",
    "params"
   ]
  },
  {
   "cell_type": "markdown",
   "id": "9a72bb3b-1aee-4dc5-9bf6-308cb73423d9",
   "metadata": {
    "slideshow": {
     "slide_type": "fragment"
    }
   },
   "source": [
    "Values are indexed via their keys."
   ]
  },
  {
   "cell_type": "code",
   "execution_count": 81,
   "id": "aafbb61e-db09-4d02-8f7b-29ea5fe13fae",
   "metadata": {},
   "outputs": [
    {
     "data": {
      "text/plain": [
       "'CA1'"
      ]
     },
     "execution_count": 81,
     "metadata": {},
     "output_type": "execute_result"
    }
   ],
   "source": [
    "params[\"region\"]"
   ]
  },
  {
   "cell_type": "markdown",
   "id": "736d284a-7f8f-4e6e-a724-a7dcdfa090b0",
   "metadata": {
    "slideshow": {
     "slide_type": "slide"
    }
   },
   "source": [
    "Keys can be anything."
   ]
  },
  {
   "cell_type": "code",
   "execution_count": 82,
   "id": "637a2b5a-da8b-417e-ba21-bffefe9537ea",
   "metadata": {},
   "outputs": [
    {
     "data": {
      "text/plain": [
       "{'cell-type': 'neuron',\n",
       " 'region': 'CA1',\n",
       " 'Fos-expression': 0.62,\n",
       " 'number of cells': 89,\n",
       " 100.5: [87, True]}"
      ]
     },
     "execution_count": 82,
     "metadata": {},
     "output_type": "execute_result"
    }
   ],
   "source": [
    "params[100.5] = [87, True]\n",
    "\n",
    "params"
   ]
  },
  {
   "cell_type": "markdown",
   "id": "4e8a47ad-8b5d-438f-bfde-54be22c5033f",
   "metadata": {
    "slideshow": {
     "slide_type": "slide"
    }
   },
   "source": [
    "Values can be edited/deleted via their keys."
   ]
  },
  {
   "cell_type": "code",
   "execution_count": 83,
   "id": "018d71d0-00f2-4426-a217-b80320132c9b",
   "metadata": {},
   "outputs": [
    {
     "data": {
      "text/plain": [
       "{'cell-type': 'neuron',\n",
       " 'region': 'CA1',\n",
       " 'Fos-expression': 0.62,\n",
       " 'number of cells': 89,\n",
       " 100.5: [87, True]}"
      ]
     },
     "execution_count": 83,
     "metadata": {},
     "output_type": "execute_result"
    }
   ],
   "source": [
    "params"
   ]
  },
  {
   "cell_type": "code",
   "execution_count": 84,
   "id": "d37db7c8-6e4d-4229-a504-2cee2eac7dab",
   "metadata": {
    "slideshow": {
     "slide_type": "-"
    }
   },
   "outputs": [
    {
     "data": {
      "text/plain": [
       "{'cell-type': 'neuron',\n",
       " 'region': 'cortex',\n",
       " 'Fos-expression': 0.62,\n",
       " 'number of cells': 89}"
      ]
     },
     "execution_count": 84,
     "metadata": {},
     "output_type": "execute_result"
    }
   ],
   "source": [
    "params[\"region\"] = \"cortex\"\n",
    "\n",
    "del params[100.5]\n",
    "\n",
    "params"
   ]
  },
  {
   "cell_type": "markdown",
   "id": "39cb1ce4-0695-4a50-becd-32439ff0f011",
   "metadata": {
    "slideshow": {
     "slide_type": "slide"
    }
   },
   "source": [
    "# Exercise\n",
    "\n",
    "<div class=\"alert alert-info\">\n",
    "    Edit the specified parameters dictionary as indicated.\n",
    "</div>"
   ]
  },
  {
   "cell_type": "code",
   "execution_count": 85,
   "id": "08431adc-ce35-40e9-9683-356b95bacec2",
   "metadata": {},
   "outputs": [],
   "source": [
    "params = {\n",
    "    \"cell-type\": \"neuron\", \n",
    "    \"region\": \"CA1\", \n",
    "    \"Fos-expression\": 0.62,\n",
    "    \"number of cells\": 89\n",
    "    }\n",
    "\n",
    "# 1. Change the cell type to 'interneurons'.\n",
    "\n",
    "# 2. Add a new parameter for the number of subjects used in the study (e.g., 12).\n"
   ]
  },
  {
   "cell_type": "markdown",
   "id": "2fee4a61-91f3-4ae0-9ffc-db7fe80bc173",
   "metadata": {
    "slideshow": {
     "slide_type": "slide"
    }
   },
   "source": [
    "# Exercise Key\n",
    "\n",
    "<div class=\"alert alert-info\">\n",
    "    Edit the specified parameters dictionary as indicated.\n",
    "</div>"
   ]
  },
  {
   "cell_type": "code",
   "execution_count": 86,
   "id": "39114db0-9848-45e9-a548-e3c719ac0dcb",
   "metadata": {},
   "outputs": [
    {
     "data": {
      "text/plain": [
       "{'cell-type': 'interneurons',\n",
       " 'region': 'CA1',\n",
       " 'Fos-expression': 0.62,\n",
       " 'number of cells': 89,\n",
       " 'num_subjects': 12}"
      ]
     },
     "execution_count": 86,
     "metadata": {},
     "output_type": "execute_result"
    }
   ],
   "source": [
    "params = {\n",
    "    \"cell-type\": \"neuron\", \n",
    "    \"region\": \"CA1\", \n",
    "    \"Fos-expression\": 0.62,\n",
    "    \"number of cells\": 89\n",
    "    }\n",
    "\n",
    "# 1. Change the cell type to 'interneurons'.\n",
    "params[\"cell-type\"] = \"interneurons\"\n",
    "\n",
    "# 2. Add a new parameter for the number of subjects used in the study (e.g., 12).\n",
    "params[\"num_subjects\"] = 12\n",
    "\n",
    "params"
   ]
  },
  {
   "cell_type": "markdown",
   "id": "d49727f9-073c-4d24-a961-8437c1d174e9",
   "metadata": {
    "editable": true,
    "slideshow": {
     "slide_type": "slide"
    },
    "tags": []
   },
   "source": [
    "# Iterating lists and dictionaries\n",
    "**Learning goals**\n",
    "- You will be able to iterate over the items in a list or dictionary using a `for` loop.\n",
    "- You will be able to iterate by value or by index.\n",
    "- You will be introduced to the `len()` and `range()` functions.\n",
    "- You will be able to `break` out of the loop or skip to `continue` to the next item.\n",
    "- You will be able to loop over items `while` a condition remains true."
   ]
  },
  {
   "cell_type": "markdown",
   "id": "47ec8f66-6b85-464f-8d21-a7df50b105eb",
   "metadata": {
    "editable": true,
    "slideshow": {
     "slide_type": "slide"
    },
    "tags": []
   },
   "source": [
    "### `for` loop code block"
   ]
  },
  {
   "cell_type": "code",
   "execution_count": 87,
   "id": "07da8c4b-1d09-4d7d-9513-a0b0034d915f",
   "metadata": {
    "editable": true,
    "slideshow": {
     "slide_type": ""
    },
    "tags": []
   },
   "outputs": [
    {
     "name": "stdout",
     "output_type": "stream",
     "text": [
      "1\n",
      "2\n",
      "3.4\n",
      "hi\n",
      "[5, 6]\n",
      "True\n"
     ]
    }
   ],
   "source": [
    "mylist = [1, 2, 3.4, \"hi\", [5, 6], True]\n",
    "\n",
    "for item in mylist:\n",
    "    print(item)"
   ]
  },
  {
   "cell_type": "markdown",
   "id": "2d1841ad-4790-4aea-bc85-ef59ca1f6b4a",
   "metadata": {
    "slideshow": {
     "slide_type": "fragment"
    }
   },
   "source": [
    "You can name the loop variable whatever you want."
   ]
  },
  {
   "cell_type": "code",
   "execution_count": 88,
   "id": "af924c1f-19c6-4882-b24f-fff7c2b1349c",
   "metadata": {},
   "outputs": [
    {
     "name": "stdout",
     "output_type": "stream",
     "text": [
      "1\n",
      "2\n",
      "3.4\n",
      "hi\n",
      "[5, 6]\n",
      "True\n"
     ]
    }
   ],
   "source": [
    "for x in mylist:\n",
    "    print(x)"
   ]
  },
  {
   "cell_type": "markdown",
   "id": "9cc3b1bb-490c-4615-8566-18a994e589c0",
   "metadata": {
    "slideshow": {
     "slide_type": "slide"
    }
   },
   "source": [
    "The entire code block is executed for each item."
   ]
  },
  {
   "cell_type": "code",
   "execution_count": 89,
   "id": "1c68771c-2f04-4493-8aa5-8f8245fb16c9",
   "metadata": {},
   "outputs": [
    {
     "name": "stdout",
     "output_type": "stream",
     "text": [
      "3\n",
      "6\n",
      "10.2\n",
      "bye\n",
      "[5, 6, 5, 6, 5, 6]\n",
      "3\n"
     ]
    }
   ],
   "source": [
    "mylist = [1, 2, 3.4, \"hi\", [5, 6], True]\n",
    "\n",
    "for item in mylist:\n",
    "    if item == \"hi\":\n",
    "        item = \"bye\"\n",
    "    else:\n",
    "        item = item * 3\n",
    "    print(item)"
   ]
  },
  {
   "cell_type": "markdown",
   "id": "40589093-6d83-4eac-9ff4-b09788803c3b",
   "metadata": {
    "slideshow": {
     "slide_type": "slide"
    }
   },
   "source": [
    "*range* function"
   ]
  },
  {
   "cell_type": "code",
   "execution_count": 90,
   "id": "64e159e4-44c8-4600-a53e-3928157eca88",
   "metadata": {},
   "outputs": [
    {
     "name": "stdout",
     "output_type": "stream",
     "text": [
      "0\n",
      "1\n",
      "2\n",
      "3\n"
     ]
    }
   ],
   "source": [
    "for i in range(4):\n",
    "    print(i)"
   ]
  },
  {
   "cell_type": "code",
   "execution_count": 91,
   "id": "29ecc843-1d9a-46f3-803e-f5d747e28084",
   "metadata": {
    "slideshow": {
     "slide_type": "fragment"
    }
   },
   "outputs": [
    {
     "name": "stdout",
     "output_type": "stream",
     "text": [
      "1\n",
      "2\n",
      "3\n"
     ]
    }
   ],
   "source": [
    "for i in range(1, 4):\n",
    "    print(i)"
   ]
  },
  {
   "cell_type": "code",
   "execution_count": 92,
   "id": "dd606608-cb1e-4351-8c68-ff77d0a09500",
   "metadata": {
    "slideshow": {
     "slide_type": "fragment"
    }
   },
   "outputs": [
    {
     "name": "stdout",
     "output_type": "stream",
     "text": [
      "1\n",
      "3\n"
     ]
    }
   ],
   "source": [
    "for i in range(1, 4, 2):\n",
    "    print(i)"
   ]
  },
  {
   "cell_type": "markdown",
   "id": "a301598f-f8c5-4fcf-8e85-d595c780ee1a",
   "metadata": {
    "slideshow": {
     "slide_type": "slide"
    }
   },
   "source": [
    "*help* function"
   ]
  },
  {
   "cell_type": "code",
   "execution_count": 93,
   "id": "1332b92f-a6a8-48c3-83fc-45f272c067fb",
   "metadata": {},
   "outputs": [
    {
     "name": "stdout",
     "output_type": "stream",
     "text": [
      "Help on class range in module builtins:\n",
      "\n",
      "class range(object)\n",
      " |  range(stop) -> range object\n",
      " |  range(start, stop[, step]) -> range object\n",
      " |\n",
      " |  Return an object that produces a sequence of integers from start (inclusive)\n",
      " |  to stop (exclusive) by step.  range(i, j) produces i, i+1, i+2, ..., j-1.\n",
      " |  start defaults to 0, and stop is omitted!  range(4) produces 0, 1, 2, 3.\n",
      " |  These are exactly the valid indices for a list of 4 elements.\n",
      " |  When step is given, it specifies the increment (or decrement).\n",
      " |\n",
      " |  Methods defined here:\n",
      " |\n",
      " |  __bool__(self, /)\n",
      " |      True if self else False\n",
      " |\n",
      " |  __contains__(self, key, /)\n",
      " |      Return bool(key in self).\n",
      " |\n",
      " |  __eq__(self, value, /)\n",
      " |      Return self==value.\n",
      " |\n",
      " |  __ge__(self, value, /)\n",
      " |      Return self>=value.\n",
      " |\n",
      " |  __getattribute__(self, name, /)\n",
      " |      Return getattr(self, name).\n",
      " |\n",
      " |  __getitem__(self, key, /)\n",
      " |      Return self[key].\n",
      " |\n",
      " |  __gt__(self, value, /)\n",
      " |      Return self>value.\n",
      " |\n",
      " |  __hash__(self, /)\n",
      " |      Return hash(self).\n",
      " |\n",
      " |  __iter__(self, /)\n",
      " |      Implement iter(self).\n",
      " |\n",
      " |  __le__(self, value, /)\n",
      " |      Return self<=value.\n",
      " |\n",
      " |  __len__(self, /)\n",
      " |      Return len(self).\n",
      " |\n",
      " |  __lt__(self, value, /)\n",
      " |      Return self<value.\n",
      " |\n",
      " |  __ne__(self, value, /)\n",
      " |      Return self!=value.\n",
      " |\n",
      " |  __reduce__(...)\n",
      " |      Helper for pickle.\n",
      " |\n",
      " |  __repr__(self, /)\n",
      " |      Return repr(self).\n",
      " |\n",
      " |  __reversed__(...)\n",
      " |      Return a reverse iterator.\n",
      " |\n",
      " |  count(...)\n",
      " |      rangeobject.count(value) -> integer -- return number of occurrences of value\n",
      " |\n",
      " |  index(...)\n",
      " |      rangeobject.index(value) -> integer -- return index of value.\n",
      " |      Raise ValueError if the value is not present.\n",
      " |\n",
      " |  ----------------------------------------------------------------------\n",
      " |  Static methods defined here:\n",
      " |\n",
      " |  __new__(*args, **kwargs)\n",
      " |      Create and return a new object.  See help(type) for accurate signature.\n",
      " |\n",
      " |  ----------------------------------------------------------------------\n",
      " |  Data descriptors defined here:\n",
      " |\n",
      " |  start\n",
      " |\n",
      " |  step\n",
      " |\n",
      " |  stop\n",
      "\n"
     ]
    }
   ],
   "source": [
    "help(range)"
   ]
  },
  {
   "cell_type": "markdown",
   "id": "ff5bc365-2fc6-4dbe-80aa-4673a9e161f0",
   "metadata": {
    "slideshow": {
     "slide_type": "slide"
    }
   },
   "source": [
    "Iterate over indexes."
   ]
  },
  {
   "cell_type": "code",
   "execution_count": 94,
   "id": "64e71461-1793-4411-b66d-f1f83558bf79",
   "metadata": {},
   "outputs": [
    {
     "name": "stdout",
     "output_type": "stream",
     "text": [
      "0 1\n",
      "1 2\n",
      "2 3.4\n",
      "3 hi\n",
      "4 [5, 6]\n",
      "5 True\n"
     ]
    }
   ],
   "source": [
    "mylist = [1, 2, 3.4, \"hi\", [5, 6], True]\n",
    "\n",
    "N = len(mylist)\n",
    "\n",
    "for i in range(N):\n",
    "    print(i, mylist[i])"
   ]
  },
  {
   "cell_type": "code",
   "execution_count": 95,
   "id": "09d76913-cf3e-456c-bd7f-021412d7f575",
   "metadata": {
    "slideshow": {
     "slide_type": "fragment"
    }
   },
   "outputs": [
    {
     "name": "stdout",
     "output_type": "stream",
     "text": [
      "0 1\n",
      "1 2\n",
      "2 3.4\n",
      "3 hi\n",
      "4 [5, 6]\n",
      "5 True\n"
     ]
    }
   ],
   "source": [
    "for i, val in enumerate(mylist):\n",
    "    print(i, val)"
   ]
  },
  {
   "cell_type": "markdown",
   "id": "db1fcbb7-1253-40f1-9429-d49bd44d172e",
   "metadata": {
    "editable": true,
    "slideshow": {
     "slide_type": "slide"
    },
    "tags": []
   },
   "source": [
    "### `break` and `continue`"
   ]
  },
  {
   "cell_type": "code",
   "execution_count": 96,
   "id": "8849e64d-81eb-492f-87b7-48f10dd285c1",
   "metadata": {
    "editable": true,
    "slideshow": {
     "slide_type": ""
    },
    "tags": []
   },
   "outputs": [
    {
     "name": "stdout",
     "output_type": "stream",
     "text": [
      "0\n",
      "1\n",
      "2\n",
      "4\n",
      "5\n",
      "6\n"
     ]
    }
   ],
   "source": [
    "for i in range(10):\n",
    "    if i == 3:\n",
    "        continue  # skip to next loop iteration\n",
    "    if i == 7:\n",
    "        break  # exit the loop\n",
    "    print(i)"
   ]
  },
  {
   "cell_type": "markdown",
   "id": "c03ad1fa-3684-48ab-a081-d24ee265fb51",
   "metadata": {
    "editable": true,
    "slideshow": {
     "slide_type": "slide"
    },
    "tags": []
   },
   "source": [
    "### `while` loop code block"
   ]
  },
  {
   "cell_type": "code",
   "execution_count": 97,
   "id": "084ac132-9150-4b49-b278-c06c9048d6df",
   "metadata": {
    "editable": true,
    "slideshow": {
     "slide_type": ""
    },
    "tags": []
   },
   "outputs": [
    {
     "name": "stdout",
     "output_type": "stream",
     "text": [
      "0\n",
      "1\n",
      "2\n",
      "3\n",
      "4\n"
     ]
    }
   ],
   "source": [
    "i = 0\n",
    "while i < 5:\n",
    "    print(i)\n",
    "    i += 1"
   ]
  },
  {
   "cell_type": "markdown",
   "id": "feb8bd17-21b9-4729-ad74-882b3e836ede",
   "metadata": {
    "slideshow": {
     "slide_type": "slide"
    }
   },
   "source": [
    "**Stuck in an infinite loop?** *Stop the kernel.*"
   ]
  },
  {
   "cell_type": "code",
   "execution_count": 98,
   "id": "3dd6b21a-df82-4aae-a801-411968471abb",
   "metadata": {},
   "outputs": [
    {
     "ename": "KeyboardInterrupt",
     "evalue": "",
     "output_type": "error",
     "traceback": [
      "\u001b[0;31m---------------------------------------------------------------------------\u001b[0m",
      "\u001b[0;31mKeyboardInterrupt\u001b[0m                         Traceback (most recent call last)",
      "Cell \u001b[0;32mIn[98], line 2\u001b[0m\n\u001b[1;32m      1\u001b[0m i \u001b[38;5;241m=\u001b[39m \u001b[38;5;241m0\u001b[39m\n\u001b[0;32m----> 2\u001b[0m \u001b[38;5;28;01mwhile\u001b[39;00m i \u001b[38;5;241m<\u001b[39m \u001b[38;5;241m5\u001b[39m:\n\u001b[1;32m      3\u001b[0m     j \u001b[38;5;241m=\u001b[39m i\u001b[38;5;241m*\u001b[39m\u001b[38;5;241m*\u001b[39m\u001b[38;5;241m2\u001b[39m\n\u001b[1;32m      4\u001b[0m     \u001b[38;5;66;03m# oops, forgot to increment i!\u001b[39;00m\n",
      "\u001b[0;31mKeyboardInterrupt\u001b[0m: "
     ]
    }
   ],
   "source": [
    "i = 0\n",
    "while i < 5:\n",
    "    j = i**2\n",
    "    # oops, forgot to increment i!"
   ]
  },
  {
   "cell_type": "markdown",
   "id": "9611a697-e9cf-4bc1-9504-271f92aa44b8",
   "metadata": {
    "editable": true,
    "slideshow": {
     "slide_type": "slide"
    },
    "tags": []
   },
   "source": [
    "### Iterating over the keys in a dictionary."
   ]
  },
  {
   "cell_type": "code",
   "execution_count": 99,
   "id": "b724579e-ff5e-4a4a-b2e6-fa58c749b24a",
   "metadata": {
    "editable": true,
    "slideshow": {
     "slide_type": ""
    },
    "tags": []
   },
   "outputs": [
    {
     "name": "stdout",
     "output_type": "stream",
     "text": [
      "cell-type = neuron\n",
      "region = CA1\n",
      "Fos-expression = 0.62\n",
      "number of cells = 89\n"
     ]
    }
   ],
   "source": [
    "params = {\n",
    "    \"cell-type\": \"neuron\", \n",
    "    \"region\": \"CA1\", \n",
    "    \"Fos-expression\": 0.62,\n",
    "    \"number of cells\": 89\n",
    "    }\n",
    "\n",
    "for key in params:\n",
    "    print(key, \"=\", params[key])"
   ]
  },
  {
   "cell_type": "markdown",
   "id": "f87694dd-c337-46ac-a42a-5c0136f5fc65",
   "metadata": {
    "editable": true,
    "slideshow": {
     "slide_type": "slide"
    },
    "tags": []
   },
   "source": [
    "# Assignment vs. mutation\n",
    "**Learning goals**\n",
    "- You will understand what happens when you assign a value to a variable.\n",
    "- You will understand the difference between mutating a value in memory and assigning a new value."
   ]
  },
  {
   "cell_type": "markdown",
   "id": "e14fa071-1de9-409d-b09d-cc1cc0518feb",
   "metadata": {
    "editable": true,
    "slideshow": {
     "slide_type": "slide"
    },
    "tags": []
   },
   "source": [
    "### Assigning a value to a variable creates a new value in memory."
   ]
  },
  {
   "cell_type": "code",
   "execution_count": 100,
   "id": "9f215fe9-6e11-4483-9a19-625dc3b88b4e",
   "metadata": {
    "cell_style": "split",
    "editable": true,
    "slideshow": {
     "slide_type": ""
    },
    "tags": []
   },
   "outputs": [
    {
     "data": {
      "text/plain": [
       "4316897872"
      ]
     },
     "execution_count": 100,
     "metadata": {},
     "output_type": "execute_result"
    }
   ],
   "source": [
    "a = 3\n",
    "\n",
    "id(a)"
   ]
  },
  {
   "cell_type": "markdown",
   "id": "fc65497d-4379-4378-b3b2-baefd4d078d8",
   "metadata": {
    "cell_style": "split",
    "editable": true,
    "slideshow": {
     "slide_type": ""
    },
    "tags": []
   },
   "source": [
    "<img src=\"images/a-in-mem.drawio.svg\" width=\"40%\">"
   ]
  },
  {
   "cell_type": "markdown",
   "id": "4aa0fb05-6bf3-449b-ae3d-c10f03f51933",
   "metadata": {
    "editable": true,
    "slideshow": {
     "slide_type": "slide"
    },
    "tags": []
   },
   "source": [
    "### Reassigning a variable disassociates it from its prior data."
   ]
  },
  {
   "cell_type": "code",
   "execution_count": 101,
   "id": "74078e9c-cb4f-4800-b307-db24a02116aa",
   "metadata": {
    "cell_style": "split",
    "editable": true,
    "slideshow": {
     "slide_type": ""
    },
    "tags": []
   },
   "outputs": [
    {
     "data": {
      "text/plain": [
       "4316897904"
      ]
     },
     "execution_count": 101,
     "metadata": {},
     "output_type": "execute_result"
    }
   ],
   "source": [
    "a = 4\n",
    "\n",
    "id(a)"
   ]
  },
  {
   "cell_type": "markdown",
   "id": "048f32cc-8388-4756-979b-099b57bee588",
   "metadata": {
    "cell_style": "split",
    "editable": true,
    "slideshow": {
     "slide_type": ""
    },
    "tags": []
   },
   "source": [
    "<img src=\"images/a-reassigned-in-mem.drawio.svg\" width=\"40%\">"
   ]
  },
  {
   "cell_type": "markdown",
   "id": "4b2e2b17-38fa-4dbd-947f-7af3fdd40bde",
   "metadata": {
    "editable": true,
    "slideshow": {
     "slide_type": "slide"
    },
    "tags": []
   },
   "source": [
    "### Multiple variables can refer to the same value in memory."
   ]
  },
  {
   "cell_type": "code",
   "execution_count": 102,
   "id": "e818f916-46df-4ecf-8e02-0aaf89e74b91",
   "metadata": {
    "cell_style": "split",
    "editable": true,
    "slideshow": {
     "slide_type": ""
    },
    "tags": []
   },
   "outputs": [
    {
     "data": {
      "text/plain": [
       "True"
      ]
     },
     "execution_count": 102,
     "metadata": {},
     "output_type": "execute_result"
    }
   ],
   "source": [
    "a = 3\n",
    "b = a\n",
    "\n",
    "id(a) == id(b)"
   ]
  },
  {
   "cell_type": "markdown",
   "id": "9d242cdd-060f-4e89-98a9-dd44d86e47f4",
   "metadata": {
    "cell_style": "split",
    "editable": true,
    "slideshow": {
     "slide_type": ""
    },
    "tags": []
   },
   "source": [
    "<img src=\"images/ab-in-mem.drawio.svg\" width=\"40%\">"
   ]
  },
  {
   "cell_type": "markdown",
   "id": "56c81027-797d-49f0-b4c6-391a27184fad",
   "metadata": {
    "editable": true,
    "slideshow": {
     "slide_type": "slide"
    },
    "tags": []
   },
   "source": [
    "<div class=\"alert alert-warning\">\n",
    "    !!! Reassigning a variable has NO EFFECT on other variables even if they previously referred to the same memory location.\n",
    "</div>"
   ]
  },
  {
   "cell_type": "code",
   "execution_count": 103,
   "id": "85d60ce5-e39c-4ee6-9047-a9e373ccd31a",
   "metadata": {
    "cell_style": "split"
   },
   "outputs": [
    {
     "data": {
      "text/plain": [
       "(3, False)"
      ]
     },
     "execution_count": 103,
     "metadata": {},
     "output_type": "execute_result"
    }
   ],
   "source": [
    "b = 2\n",
    "\n",
    "a, id(a) ==  id(b)"
   ]
  },
  {
   "cell_type": "markdown",
   "id": "7a6e9e42-40de-4ba8-af41-5a5f616c7fde",
   "metadata": {
    "cell_style": "split",
    "editable": true,
    "slideshow": {
     "slide_type": ""
    },
    "tags": []
   },
   "source": [
    "<img src=\"images/a-b-in-mem.drawio.svg\" width=\"40%\">"
   ]
  },
  {
   "cell_type": "markdown",
   "id": "41ff73a3-8c38-4838-be74-6aa393ba0e96",
   "metadata": {
    "editable": true,
    "slideshow": {
     "slide_type": "slide"
    },
    "tags": []
   },
   "source": [
    "### Assigning a value to a variable creates a new value in memory."
   ]
  },
  {
   "cell_type": "code",
   "execution_count": 104,
   "id": "62d6df8a-1b7a-4526-9660-3465d20ed0ad",
   "metadata": {
    "cell_style": "split",
    "editable": true,
    "slideshow": {
     "slide_type": ""
    },
    "tags": []
   },
   "outputs": [
    {
     "data": {
      "text/plain": [
       "4377907136"
      ]
     },
     "execution_count": 104,
     "metadata": {},
     "output_type": "execute_result"
    }
   ],
   "source": [
    "a = [1, 2, 3]\n",
    "\n",
    "id(a)"
   ]
  },
  {
   "cell_type": "markdown",
   "id": "4421b2c1-6733-4833-9605-102b1701256a",
   "metadata": {
    "cell_style": "split",
    "editable": true,
    "slideshow": {
     "slide_type": ""
    },
    "tags": []
   },
   "source": [
    "<img src=\"images/alist-in-mem.drawio.svg\" width=\"40%\">"
   ]
  },
  {
   "cell_type": "markdown",
   "id": "683acd9d-83e0-46d3-acf0-1aa947213afd",
   "metadata": {
    "editable": true,
    "slideshow": {
     "slide_type": "slide"
    },
    "tags": []
   },
   "source": [
    "### Reassigning a variable disassociates it from its prior data."
   ]
  },
  {
   "cell_type": "code",
   "execution_count": 105,
   "id": "28ade8b0-ac1b-4a9a-a399-a9cc60cbc83e",
   "metadata": {
    "cell_style": "split",
    "editable": true,
    "slideshow": {
     "slide_type": ""
    },
    "tags": []
   },
   "outputs": [
    {
     "data": {
      "text/plain": [
       "4401523840"
      ]
     },
     "execution_count": 105,
     "metadata": {},
     "output_type": "execute_result"
    }
   ],
   "source": [
    "a = [1, 8, 3]\n",
    "\n",
    "id(a)"
   ]
  },
  {
   "cell_type": "markdown",
   "id": "fed7771a-77b8-4397-9922-c1ba465c9cab",
   "metadata": {
    "cell_style": "split",
    "editable": true,
    "slideshow": {
     "slide_type": ""
    },
    "tags": []
   },
   "source": [
    "<img src=\"images/alist-reassigned-in-mem.drawio.svg\" width=\"40%\">"
   ]
  },
  {
   "cell_type": "markdown",
   "id": "8c59d382-d755-4daa-8780-63b22272085c",
   "metadata": {
    "editable": true,
    "slideshow": {
     "slide_type": "slide"
    },
    "tags": []
   },
   "source": [
    "### Let's start by assigning a simple list."
   ]
  },
  {
   "cell_type": "code",
   "execution_count": 106,
   "id": "4a6a5bb6-5bda-4cae-9b54-5e3ba16ccba0",
   "metadata": {
    "cell_style": "split",
    "editable": true,
    "slideshow": {
     "slide_type": ""
    },
    "tags": []
   },
   "outputs": [
    {
     "data": {
      "text/plain": [
       "4377905088"
      ]
     },
     "execution_count": 106,
     "metadata": {},
     "output_type": "execute_result"
    }
   ],
   "source": [
    "a = [1, 2, 3]\n",
    "\n",
    "id(a)"
   ]
  },
  {
   "cell_type": "markdown",
   "id": "5b6c41c3-a279-4c60-8443-77912a9db4a4",
   "metadata": {
    "cell_style": "split",
    "editable": true,
    "slideshow": {
     "slide_type": ""
    },
    "tags": []
   },
   "source": [
    "<img src=\"images/alist-in-mem.drawio.svg\" width=\"40%\">"
   ]
  },
  {
   "cell_type": "markdown",
   "id": "0e7e8bb6-a66a-466b-b5b6-3665e9f643f0",
   "metadata": {
    "editable": true,
    "slideshow": {
     "slide_type": "slide"
    },
    "tags": []
   },
   "source": [
    "<div class=\"alert alert-warning\">\n",
    "    !!! Mutating a variable changes the value in the current memory location.\n",
    "</div>"
   ]
  },
  {
   "cell_type": "code",
   "execution_count": 107,
   "id": "9abb4563-2271-41bc-9681-cc5dc5182b60",
   "metadata": {
    "cell_style": "split"
   },
   "outputs": [
    {
     "data": {
      "text/plain": [
       "4377905088"
      ]
     },
     "execution_count": 107,
     "metadata": {},
     "output_type": "execute_result"
    }
   ],
   "source": [
    "a[1] = 8\n",
    "\n",
    "id(a)"
   ]
  },
  {
   "cell_type": "markdown",
   "id": "30998d23-d316-4860-8a8f-cdb30f1a4e76",
   "metadata": {
    "cell_style": "split",
    "editable": true,
    "slideshow": {
     "slide_type": ""
    },
    "tags": []
   },
   "source": [
    "<img src=\"images/alist-mutated-in-mem.drawio.svg\" width=\"40%\">"
   ]
  },
  {
   "cell_type": "markdown",
   "id": "a391db45-d9b5-4a68-be62-878a37b4f4f6",
   "metadata": {
    "editable": true,
    "slideshow": {
     "slide_type": "slide"
    },
    "tags": []
   },
   "source": [
    "### Multiple variables can refer to the same value in memory."
   ]
  },
  {
   "cell_type": "code",
   "execution_count": 108,
   "id": "d3b0046d-89b9-4d4b-89ad-bce3f8fff569",
   "metadata": {
    "cell_style": "split",
    "editable": true,
    "slideshow": {
     "slide_type": ""
    },
    "tags": []
   },
   "outputs": [
    {
     "data": {
      "text/plain": [
       "True"
      ]
     },
     "execution_count": 108,
     "metadata": {},
     "output_type": "execute_result"
    }
   ],
   "source": [
    "a = [1, 2, 3]\n",
    "b = a\n",
    "\n",
    "id(a) == id(b)"
   ]
  },
  {
   "cell_type": "markdown",
   "id": "bff1a2a8-1749-403e-a734-d2a8ba1de2e0",
   "metadata": {
    "cell_style": "split",
    "editable": true,
    "slideshow": {
     "slide_type": ""
    },
    "tags": []
   },
   "source": [
    "<img src=\"images/ablist-in-mem.drawio.svg\" width=\"40%\">"
   ]
  },
  {
   "cell_type": "markdown",
   "id": "105ab576-a265-4621-ab68-ac612b4d8e46",
   "metadata": {
    "editable": true,
    "slideshow": {
     "slide_type": "slide"
    },
    "tags": []
   },
   "source": [
    "<div class=\"alert alert-warning\">\n",
    "    !!! Mutating a variable changes ALL VARIABLES that refer to the same value in memory.\n",
    "</div>"
   ]
  },
  {
   "cell_type": "code",
   "execution_count": 109,
   "id": "2dafc573-8f79-4950-92c5-0c7dbadf026a",
   "metadata": {
    "cell_style": "split"
   },
   "outputs": [
    {
     "data": {
      "text/plain": [
       "([1, 8, 3], True)"
      ]
     },
     "execution_count": 109,
     "metadata": {},
     "output_type": "execute_result"
    }
   ],
   "source": [
    "a[1] = 8\n",
    "\n",
    "b, id(a) == id(b)"
   ]
  },
  {
   "cell_type": "markdown",
   "id": "e3d6f205-94d6-4403-915a-e851c87e671c",
   "metadata": {
    "cell_style": "split",
    "editable": true,
    "slideshow": {
     "slide_type": ""
    },
    "tags": []
   },
   "source": [
    "<img src=\"images/ablist-mutated-in-mem.drawio.svg\" width=\"40%\">"
   ]
  },
  {
   "cell_type": "markdown",
   "id": "4428f380-55d2-4159-9fb8-95c427149e70",
   "metadata": {
    "editable": true,
    "slideshow": {
     "slide_type": "slide"
    },
    "tags": []
   },
   "source": [
    "### Examples of **mutable** vs. **immutable** objects.\n",
    "\n",
    "| Immutable | Mutable |\n",
    "| --- | --- |\n",
    "| Can only be assigned. | Can be assigned and mutated. |\n",
    "| `int` | `list` |\n",
    "| `float` | `dict` |\n",
    "| `bool` | `class` |\n",
    "| `str` | |\n",
    "| `tuple` | |"
   ]
  },
  {
   "cell_type": "markdown",
   "id": "2dc33604-3adf-4406-985f-9e3d74add217",
   "metadata": {
    "editable": true,
    "slideshow": {
     "slide_type": "slide"
    },
    "tags": []
   },
   "source": [
    "### What if you want a **copy** of a mutable object?"
   ]
  },
  {
   "cell_type": "code",
   "execution_count": 110,
   "id": "88c12372-0d31-476c-b3c0-c212f5ec221b",
   "metadata": {
    "cell_style": "split",
    "editable": true,
    "slideshow": {
     "slide_type": ""
    },
    "tags": []
   },
   "outputs": [
    {
     "data": {
      "text/plain": [
       "([1, 2, 3], False)"
      ]
     },
     "execution_count": 110,
     "metadata": {},
     "output_type": "execute_result"
    }
   ],
   "source": [
    "# import the copy module\n",
    "import copy\n",
    "\n",
    "a = [1, 2, 3]\n",
    "\n",
    "# use the 'copy' funtion in the 'copy' module\n",
    "b = copy.copy(a)\n",
    "\n",
    "b, id(a) == id(b)"
   ]
  },
  {
   "cell_type": "markdown",
   "id": "ef809c2f-579d-4239-9003-d78689e2722b",
   "metadata": {
    "cell_style": "split",
    "editable": true,
    "slideshow": {
     "slide_type": ""
    },
    "tags": []
   },
   "source": [
    "<img src=\"images/alist-blist-in-mem.drawio.svg\" width=\"40%\">"
   ]
  },
  {
   "cell_type": "markdown",
   "id": "07a7d9e6-ad1c-4031-a149-9e4a230440de",
   "metadata": {
    "editable": true,
    "slideshow": {
     "slide_type": "fragment"
    },
    "tags": []
   },
   "source": [
    "### `copy.deepcopy` is needed for recursive copying of nested objects."
   ]
  },
  {
   "cell_type": "code",
   "execution_count": 111,
   "id": "733b6fd7-ad9b-4824-b278-1ce1d5227814",
   "metadata": {
    "editable": true,
    "slideshow": {
     "slide_type": ""
    },
    "tags": [
     "raises-exception"
    ]
   },
   "outputs": [
    {
     "data": {
      "text/plain": [
       "([[1, 2], [3, 4]], False)"
      ]
     },
     "execution_count": 111,
     "metadata": {},
     "output_type": "execute_result"
    }
   ],
   "source": [
    "a = [[1, 2], [3, 4]]\n",
    "\n",
    "b = copy.deepcopy(a)\n",
    "\n",
    "b, id(a) == id(b)"
   ]
  },
  {
   "cell_type": "markdown",
   "id": "96c213db-98f5-49eb-a0fe-a85b99b9a989",
   "metadata": {
    "editable": true,
    "slideshow": {
     "slide_type": "slide"
    },
    "tags": []
   },
   "source": [
    "Nested objects in memory."
   ]
  },
  {
   "cell_type": "code",
   "execution_count": 112,
   "id": "1f94ae95-e52a-48c7-8cea-490ba361bf82",
   "metadata": {
    "cell_style": "split",
    "editable": true,
    "slideshow": {
     "slide_type": ""
    },
    "tags": []
   },
   "outputs": [],
   "source": [
    "a = [1, [2, 3]]"
   ]
  },
  {
   "cell_type": "markdown",
   "id": "998d509e-e60b-4572-a70b-391d6fcd8c39",
   "metadata": {
    "cell_style": "split",
    "editable": true,
    "slideshow": {
     "slide_type": ""
    },
    "tags": []
   },
   "source": [
    "<img src=\"images/nestedlist-in-mem.drawio.svg\" width=\"40%\">"
   ]
  },
  {
   "cell_type": "code",
   "execution_count": 113,
   "id": "e2bf5bef-73db-4057-9f3c-f03b34e76b27",
   "metadata": {
    "cell_style": "split",
    "editable": true,
    "slideshow": {
     "slide_type": "fragment"
    },
    "tags": []
   },
   "outputs": [],
   "source": [
    "import copy\n",
    "\n",
    "b = copy.copy(a)"
   ]
  },
  {
   "cell_type": "markdown",
   "id": "1e09149a-eb30-4122-955d-3c78143bdcd3",
   "metadata": {
    "cell_style": "split",
    "editable": true,
    "slideshow": {
     "slide_type": ""
    },
    "tags": []
   },
   "source": [
    "<img src=\"images/nestedlist-copy-in-mem.drawio.svg\" width=\"40%\">"
   ]
  },
  {
   "cell_type": "code",
   "execution_count": 114,
   "id": "09f2ed67-c1b3-49ce-ba3f-d98ba2dabbb4",
   "metadata": {
    "cell_style": "split",
    "editable": true,
    "slideshow": {
     "slide_type": "fragment"
    },
    "tags": []
   },
   "outputs": [],
   "source": [
    "c = copy.deepcopy(a)"
   ]
  },
  {
   "cell_type": "markdown",
   "id": "94c7187c-0edd-4abd-a55a-a3b8847e9d6d",
   "metadata": {
    "cell_style": "split",
    "editable": true,
    "slideshow": {
     "slide_type": ""
    },
    "tags": []
   },
   "source": [
    "<img src=\"images/nestedlist-deepcopy-in-mem.drawio.svg\" width=\"40%\">"
   ]
  },
  {
   "cell_type": "markdown",
   "id": "ab7e38c9-4d87-4f15-a605-77e5e97a9503",
   "metadata": {
    "editable": true,
    "slideshow": {
     "slide_type": "slide"
    },
    "tags": []
   },
   "source": [
    "# Tuple = Immutable List"
   ]
  },
  {
   "cell_type": "code",
   "execution_count": 115,
   "id": "5b38d2b5-3fd4-4eed-93d9-aa9143c9e008",
   "metadata": {
    "editable": true,
    "slideshow": {
     "slide_type": ""
    },
    "tags": []
   },
   "outputs": [
    {
     "data": {
      "text/plain": [
       "(list, tuple)"
      ]
     },
     "execution_count": 115,
     "metadata": {},
     "output_type": "execute_result"
    }
   ],
   "source": [
    "mylist = [1, 2, 'hi', True]\n",
    "mytuple = (1, 2, 'hi', True)\n",
    "\n",
    "type(mylist), type(mytuple)"
   ]
  },
  {
   "cell_type": "markdown",
   "id": "396f445a-f236-4eb3-88b0-00413d2a68d4",
   "metadata": {
    "slideshow": {
     "slide_type": "fragment"
    }
   },
   "source": [
    "You can read the values in a tuple using the same indexing/slicing as for a list."
   ]
  },
  {
   "cell_type": "code",
   "execution_count": 116,
   "id": "86c55d47-a124-4a38-9032-da4d42614474",
   "metadata": {
    "cell_style": "split"
   },
   "outputs": [
    {
     "data": {
      "text/plain": [
       "2"
      ]
     },
     "execution_count": 116,
     "metadata": {},
     "output_type": "execute_result"
    }
   ],
   "source": [
    "mylist[1]"
   ]
  },
  {
   "cell_type": "code",
   "execution_count": 117,
   "id": "7b3356cf-9286-4827-bd1e-6b95607b5006",
   "metadata": {
    "cell_style": "split"
   },
   "outputs": [
    {
     "data": {
      "text/plain": [
       "'hi'"
      ]
     },
     "execution_count": 117,
     "metadata": {},
     "output_type": "execute_result"
    }
   ],
   "source": [
    "mytuple[2]"
   ]
  },
  {
   "cell_type": "markdown",
   "id": "c65e9c19-df6e-4f6b-975f-9f4b2bf8a85a",
   "metadata": {
    "slideshow": {
     "slide_type": "slide"
    }
   },
   "source": [
    "Unlike a list, you CANNOT CHANGE a tuple."
   ]
  },
  {
   "cell_type": "code",
   "execution_count": 118,
   "id": "1f12f36f-6eb6-41bc-80a8-ba31fe28dfae",
   "metadata": {
    "cell_style": "split"
   },
   "outputs": [
    {
     "data": {
      "text/plain": [
       "[1, 100, 'hi', True]"
      ]
     },
     "execution_count": 118,
     "metadata": {},
     "output_type": "execute_result"
    }
   ],
   "source": [
    "mylist[1] = 100\n",
    "mylist"
   ]
  },
  {
   "cell_type": "code",
   "execution_count": 119,
   "id": "7aa4f4f5-4778-4819-aee7-c0da38bad949",
   "metadata": {
    "cell_style": "split",
    "editable": true,
    "slideshow": {
     "slide_type": ""
    },
    "tags": [
     "raises-exception"
    ]
   },
   "outputs": [
    {
     "ename": "TypeError",
     "evalue": "'tuple' object does not support item assignment",
     "output_type": "error",
     "traceback": [
      "\u001b[0;31m---------------------------------------------------------------------------\u001b[0m",
      "\u001b[0;31mTypeError\u001b[0m                                 Traceback (most recent call last)",
      "Cell \u001b[0;32mIn[119], line 1\u001b[0m\n\u001b[0;32m----> 1\u001b[0m \u001b[43mmytuple\u001b[49m\u001b[43m[\u001b[49m\u001b[38;5;241;43m1\u001b[39;49m\u001b[43m]\u001b[49m \u001b[38;5;241m=\u001b[39m \u001b[38;5;241m100\u001b[39m\n",
      "\u001b[0;31mTypeError\u001b[0m: 'tuple' object does not support item assignment"
     ]
    }
   ],
   "source": [
    "mytuple[1] = 100"
   ]
  },
  {
   "cell_type": "markdown",
   "id": "6b1465fd-4525-46e6-99b9-592bb98e6798",
   "metadata": {
    "slideshow": {
     "slide_type": "fragment"
    }
   },
   "source": [
    "You can ONLY ASSIGN A COMPLETELY NEW tuple."
   ]
  },
  {
   "cell_type": "code",
   "execution_count": 120,
   "id": "d55f3a61-8fb3-4e0e-85df-3cf424bb4dd9",
   "metadata": {
    "editable": true,
    "slideshow": {
     "slide_type": ""
    },
    "tags": []
   },
   "outputs": [],
   "source": [
    "mytuple = (1, 100, 'hi', True)"
   ]
  },
  {
   "cell_type": "markdown",
   "id": "2f0f53de-6ac0-4bf1-98ee-977db562f38f",
   "metadata": {
    "editable": true,
    "slideshow": {
     "slide_type": "slide"
    },
    "tags": []
   },
   "source": [
    "# Functions\n",
    "**Learning goals**\n",
    "- You will be able to write and use your own functions.\n",
    "- You will be able to define named and/or default arguments.\n",
    "- You will be able to `return` an output from a function.\n",
    "- You will understand a variable's scope."
   ]
  },
  {
   "cell_type": "code",
   "execution_count": 121,
   "id": "44d6fb36-ce9f-4007-9140-075efa570622",
   "metadata": {
    "editable": true,
    "slideshow": {
     "slide_type": "slide"
    },
    "tags": []
   },
   "outputs": [
    {
     "name": "stdout",
     "output_type": "stream",
     "text": [
      "Hi Tim\n"
     ]
    }
   ],
   "source": [
    "def sayHi(name):\n",
    "    message = \"Hi \" + name\n",
    "    print(message)\n",
    "\n",
    "sayHi(\"Tim\")"
   ]
  },
  {
   "cell_type": "code",
   "execution_count": 122,
   "id": "22e4d281-bc58-4e29-8ee3-43736f44682d",
   "metadata": {
    "slideshow": {
     "slide_type": "fragment"
    }
   },
   "outputs": [
    {
     "name": "stdout",
     "output_type": "stream",
     "text": [
      "Hi Amy\n"
     ]
    }
   ],
   "source": [
    "sayHi(\"Amy\")"
   ]
  },
  {
   "cell_type": "code",
   "execution_count": 123,
   "id": "4a91ef79-058c-439a-b14b-94d47e7a69a3",
   "metadata": {
    "slideshow": {
     "slide_type": "fragment"
    }
   },
   "outputs": [
    {
     "data": {
      "text/plain": [
       "function"
      ]
     },
     "execution_count": 123,
     "metadata": {},
     "output_type": "execute_result"
    }
   ],
   "source": [
    "type(sayHi)"
   ]
  },
  {
   "cell_type": "markdown",
   "id": "3e8b895a-b0bf-450e-a8cf-a3ae5eb87cb2",
   "metadata": {
    "slideshow": {
     "slide_type": "slide"
    }
   },
   "source": [
    "The function name is always followed by `()` even if the function does not take any input arguments.\n"
   ]
  },
  {
   "cell_type": "code",
   "execution_count": 124,
   "id": "ae71b601-1074-4b4f-9f8c-32c6eec9e71b",
   "metadata": {},
   "outputs": [
    {
     "name": "stdout",
     "output_type": "stream",
     "text": [
      "Hi\n"
     ]
    }
   ],
   "source": [
    "def sayHi():\n",
    "    print(\"Hi\")\n",
    "\n",
    "sayHi()"
   ]
  },
  {
   "cell_type": "markdown",
   "id": "fa354f39-c868-4840-9fba-947f8bf6d0d7",
   "metadata": {
    "editable": true,
    "slideshow": {
     "slide_type": "slide"
    },
    "tags": []
   },
   "source": [
    "### Function **return** values"
   ]
  },
  {
   "cell_type": "code",
   "execution_count": 125,
   "id": "a08a5de8-004f-44a1-8a53-4c59b04efabe",
   "metadata": {
    "editable": true,
    "slideshow": {
     "slide_type": ""
    },
    "tags": []
   },
   "outputs": [
    {
     "data": {
      "text/plain": [
       "7.5"
      ]
     },
     "execution_count": 125,
     "metadata": {},
     "output_type": "execute_result"
    }
   ],
   "source": [
    "def sum(x, y):\n",
    "    return x + y\n",
    "\n",
    "z = sum(3, 4.5)\n",
    "z"
   ]
  },
  {
   "cell_type": "markdown",
   "id": "ce22511c-b79d-4450-a56f-34344afe1be5",
   "metadata": {
    "slideshow": {
     "slide_type": "fragment"
    }
   },
   "source": [
    "You can return multiple values."
   ]
  },
  {
   "cell_type": "code",
   "execution_count": 126,
   "id": "af082757-b790-4bab-95e8-cf2cea69f420",
   "metadata": {},
   "outputs": [
    {
     "data": {
      "text/plain": [
       "(-1, 6)"
      ]
     },
     "execution_count": 126,
     "metadata": {},
     "output_type": "execute_result"
    }
   ],
   "source": [
    "def get_sub_and_prod(x, y):\n",
    "    sub = x - y\n",
    "    prod = x * y\n",
    "    return sub, prod\n",
    "\n",
    "a, b = get_sub_and_prod(2, 3)\n",
    "a, b"
   ]
  },
  {
   "cell_type": "markdown",
   "id": "2c9ad9e5-16ab-4b89-94bd-a7b0e8bdd2e5",
   "metadata": {
    "slideshow": {
     "slide_type": "slide"
    }
   },
   "source": [
    "# Exercise\n",
    "\n",
    "<div class=\"alert alert-info\">\n",
    "    <p>Write a function that converts a weight in grams to kilograms.</p>\n",
    "    <p>Use your function to convert 300 grams to kilograms.</p>\n",
    "</div>"
   ]
  },
  {
   "cell_type": "code",
   "execution_count": null,
   "id": "1cbbb654-c678-434c-a095-cb6325938a99",
   "metadata": {},
   "outputs": [],
   "source": []
  },
  {
   "cell_type": "markdown",
   "id": "31b31dd7-f1e6-42d4-aa7d-b6f2661239f5",
   "metadata": {
    "slideshow": {
     "slide_type": "slide"
    }
   },
   "source": [
    "# Exercise Key\n",
    "\n",
    "<div class=\"alert alert-info\">\n",
    "    <p>Write a function that converts a weight in grams to kilograms.</p>\n",
    "    <p>Use your function to convert 300 grams to kilograms.</p>\n",
    "</div>"
   ]
  },
  {
   "cell_type": "code",
   "execution_count": 127,
   "id": "684482fa-8e20-4c5a-ac62-75f2b571f3cc",
   "metadata": {},
   "outputs": [
    {
     "name": "stdout",
     "output_type": "stream",
     "text": [
      "300 g = 0.3 kg\n"
     ]
    }
   ],
   "source": [
    "def g_to_kg(g):\n",
    "    return g / 1000\n",
    "\n",
    "print(f\"300 g = {g_to_kg(300)} kg\")"
   ]
  },
  {
   "cell_type": "markdown",
   "id": "26d75209-480b-4496-bae9-ade073f7031d",
   "metadata": {
    "slideshow": {
     "slide_type": "slide"
    }
   },
   "source": [
    "### Function default arguments"
   ]
  },
  {
   "cell_type": "code",
   "execution_count": 128,
   "id": "28679160-0a3f-40cc-84bf-ddf8a338e72e",
   "metadata": {},
   "outputs": [
    {
     "data": {
      "text/plain": [
       "7"
      ]
     },
     "execution_count": 128,
     "metadata": {},
     "output_type": "execute_result"
    }
   ],
   "source": [
    "def add_y_or_2(x, y=2):\n",
    "    return x + y\n",
    "\n",
    "add_y_or_2(3, 4)"
   ]
  },
  {
   "cell_type": "code",
   "execution_count": 129,
   "id": "960c08ee-2b4f-4486-9465-6489d0e4d099",
   "metadata": {},
   "outputs": [
    {
     "data": {
      "text/plain": [
       "5"
      ]
     },
     "execution_count": 129,
     "metadata": {},
     "output_type": "execute_result"
    }
   ],
   "source": [
    "add_y_or_2(3)"
   ]
  },
  {
   "cell_type": "markdown",
   "id": "5fdf7ea7-c942-4233-96e2-8ae59d3c384b",
   "metadata": {
    "slideshow": {
     "slide_type": "slide"
    }
   },
   "source": [
    "### Function named arguments"
   ]
  },
  {
   "cell_type": "code",
   "execution_count": 130,
   "id": "eafe9f51-9885-4442-80b0-f533d5498abc",
   "metadata": {},
   "outputs": [
    {
     "data": {
      "text/plain": [
       "-1"
      ]
     },
     "execution_count": 130,
     "metadata": {},
     "output_type": "execute_result"
    }
   ],
   "source": [
    "def sub(x, y):\n",
    "    return x - y\n",
    "\n",
    "sub(3, 4)"
   ]
  },
  {
   "cell_type": "code",
   "execution_count": 131,
   "id": "1632efd8-c344-4720-89dd-73a194f5da2c",
   "metadata": {},
   "outputs": [
    {
     "data": {
      "text/plain": [
       "-1"
      ]
     },
     "execution_count": 131,
     "metadata": {},
     "output_type": "execute_result"
    }
   ],
   "source": [
    "sub(x=3, y=4)"
   ]
  },
  {
   "cell_type": "code",
   "execution_count": 132,
   "id": "186587fa-400c-4ab2-99cf-1ec5fd51e516",
   "metadata": {},
   "outputs": [
    {
     "data": {
      "text/plain": [
       "-1"
      ]
     },
     "execution_count": 132,
     "metadata": {},
     "output_type": "execute_result"
    }
   ],
   "source": [
    "sub(y=4, x=3)"
   ]
  },
  {
   "cell_type": "markdown",
   "id": "0385c52b-ddcd-4fc8-b34e-70a1335e7c8e",
   "metadata": {
    "editable": true,
    "slideshow": {
     "slide_type": "slide"
    },
    "tags": []
   },
   "source": [
    "# Variable scope\n",
    "\n",
    "<div class=\"alert alert-info\">\n",
    "Variables defined at notebook level can be accessed from anywhere in the notebook including inside of all functions.\n",
    "</div>"
   ]
  },
  {
   "cell_type": "code",
   "execution_count": 133,
   "id": "89fe65ce-95c1-4b00-9cff-d2d2bfd860c8",
   "metadata": {
    "editable": true,
    "slideshow": {
     "slide_type": ""
    },
    "tags": []
   },
   "outputs": [
    {
     "name": "stdout",
     "output_type": "stream",
     "text": [
      "3\n"
     ]
    }
   ],
   "source": [
    "x = 3\n",
    "\n",
    "print(x)"
   ]
  },
  {
   "cell_type": "code",
   "execution_count": 134,
   "id": "94ce2855-bae7-4a9c-8374-53b9055b6bb2",
   "metadata": {},
   "outputs": [],
   "source": [
    "def what_is_x():\n",
    "    print(x)"
   ]
  },
  {
   "cell_type": "code",
   "execution_count": 135,
   "id": "2a29d6e9-28ba-4e46-8175-bce2908baf9b",
   "metadata": {},
   "outputs": [
    {
     "name": "stdout",
     "output_type": "stream",
     "text": [
      "3\n"
     ]
    }
   ],
   "source": [
    "what_is_x()"
   ]
  },
  {
   "cell_type": "markdown",
   "id": "d12cee1b-435f-4ad6-a77c-4ef24b724d52",
   "metadata": {
    "slideshow": {
     "slide_type": "slide"
    }
   },
   "source": [
    "### Local scope within a function\n",
    "\n",
    "<div class=\"alert alert-info\">\n",
    "Variables defined within a function only exist within the function.\n",
    "</div>"
   ]
  },
  {
   "cell_type": "code",
   "execution_count": 136,
   "id": "7fb109d9-438c-4665-9990-91dfbeaa70c6",
   "metadata": {},
   "outputs": [
    {
     "name": "stdout",
     "output_type": "stream",
     "text": [
      "2\n"
     ]
    }
   ],
   "source": [
    "x = 3\n",
    "\n",
    "def setx():\n",
    "    x = 2\n",
    "    print(x)\n",
    "\n",
    "setx()"
   ]
  },
  {
   "cell_type": "markdown",
   "id": "932fe4c3-6123-4d3c-a5e0-d50b824743ce",
   "metadata": {},
   "source": [
    "What value does `x` have now?"
   ]
  },
  {
   "cell_type": "code",
   "execution_count": 137,
   "id": "4a3ecf8b-467c-4f87-9bc4-414ef1053def",
   "metadata": {
    "slideshow": {
     "slide_type": "fragment"
    }
   },
   "outputs": [
    {
     "data": {
      "text/plain": [
       "3"
      ]
     },
     "execution_count": 137,
     "metadata": {},
     "output_type": "execute_result"
    }
   ],
   "source": [
    "x"
   ]
  },
  {
   "cell_type": "markdown",
   "id": "25ee99c5-fd6c-43f9-b181-d2665dac5182",
   "metadata": {
    "slideshow": {
     "slide_type": "slide"
    }
   },
   "source": [
    "<div class=\"alert alert-warning\">\n",
    "    !!! Reassigning an input to a new local value does NOT affect the global input variable.\n",
    "</div>"
   ]
  },
  {
   "cell_type": "code",
   "execution_count": 138,
   "id": "e505b777-4fdb-40d0-86aa-8f960d91dc20",
   "metadata": {},
   "outputs": [
    {
     "name": "stdout",
     "output_type": "stream",
     "text": [
      "local: 1\n",
      "global: 3\n"
     ]
    }
   ],
   "source": [
    "x = 3\n",
    "\n",
    "def changex(x):\n",
    "    # Reassigning input `x` to new local value\n",
    "    # does NOT affect global `x`\n",
    "    x = x - 2\n",
    "    print(\"local:\", x)\n",
    "\n",
    "changex(x)\n",
    "\n",
    "print(\"global:\", x)"
   ]
  },
  {
   "cell_type": "markdown",
   "id": "38a7909b-7d22-4d58-93fc-5fac9de3db8c",
   "metadata": {
    "slideshow": {
     "slide_type": "slide"
    }
   },
   "source": [
    "<div class=\"alert alert-warning\">\n",
    "    !!! Mutating an input changes the global input variable.\n",
    "</div>"
   ]
  },
  {
   "cell_type": "code",
   "execution_count": 139,
   "id": "51d07d51-7cd6-443e-a2c4-60f200919891",
   "metadata": {
    "editable": true,
    "slideshow": {
     "slide_type": "-"
    },
    "tags": []
   },
   "outputs": [
    {
     "name": "stdout",
     "output_type": "stream",
     "text": [
      "local: [1, 8, 3]\n",
      "global: [1, 8, 3]\n"
     ]
    }
   ],
   "source": [
    "x = [1, 2, 3]\n",
    "\n",
    "def changex(x):\n",
    "    # Mutating input `x` changes global `x`\n",
    "    x[1] = 8\n",
    "    print(\"local:\", x)\n",
    "\n",
    "changex(x)\n",
    "\n",
    "print(\"global:\", x)"
   ]
  },
  {
   "cell_type": "markdown",
   "id": "3a1566ee-60c7-443e-b517-4113a254265e",
   "metadata": {
    "editable": true,
    "slideshow": {
     "slide_type": "slide"
    },
    "tags": []
   },
   "source": [
    "# Classes\n",
    "**Learning goals**\n",
    "- You will be able to write and use your own classes.\n",
    "- You will appreciate that classes are not always the best option."
   ]
  },
  {
   "cell_type": "markdown",
   "id": "09cdf781-5436-4244-a172-871457d5aa05",
   "metadata": {
    "editable": true,
    "slideshow": {
     "slide_type": "slide"
    },
    "tags": []
   },
   "source": [
    "### **A class is a template** for a collection of data values (**attributes**) and functions (**methods**) that define some behaviors."
   ]
  },
  {
   "cell_type": "code",
   "execution_count": 140,
   "id": "758ab10b-9350-4003-9e99-100a0337d5eb",
   "metadata": {
    "editable": true,
    "slideshow": {
     "slide_type": ""
    },
    "tags": []
   },
   "outputs": [],
   "source": [
    "class MySpikingNeuron:\n",
    "    \"\"\" My cool neuron\n",
    "    \n",
    "    This neuron can spike\n",
    "    and stuff!\n",
    "    \"\"\"\n",
    "    \n",
    "    def get_avg_seconds_to_next_spike(self):\n",
    "        \"\"\" Returns the time in seconds to the next spike. \"\"\"\n",
    "        return 0.1"
   ]
  },
  {
   "cell_type": "code",
   "execution_count": 141,
   "id": "3a332372-6960-4422-bfaf-203794c37235",
   "metadata": {
    "slideshow": {
     "slide_type": "fragment"
    }
   },
   "outputs": [
    {
     "data": {
      "text/plain": [
       "mappingproxy({'__module__': '__main__',\n",
       "              '__doc__': ' My cool neuron\\n    \\n    This neuron can spike\\n    and stuff!\\n    ',\n",
       "              'get_avg_seconds_to_next_spike': <function __main__.MySpikingNeuron.get_avg_seconds_to_next_spike(self)>,\n",
       "              '__dict__': <attribute '__dict__' of 'MySpikingNeuron' objects>,\n",
       "              '__weakref__': <attribute '__weakref__' of 'MySpikingNeuron' objects>})"
      ]
     },
     "execution_count": 141,
     "metadata": {},
     "output_type": "execute_result"
    }
   ],
   "source": [
    "MySpikingNeuron.__dict__"
   ]
  },
  {
   "cell_type": "markdown",
   "id": "2163a68c-bcc0-4853-9453-e0d42733baf2",
   "metadata": {
    "editable": true,
    "slideshow": {
     "slide_type": "slide"
    },
    "tags": []
   },
   "source": [
    "### To use the class you typically create an object that is an **instance** *of the class template*.\n",
    "\n",
    "`neuron` is an instance of `MySpikingNeuron`"
   ]
  },
  {
   "cell_type": "code",
   "execution_count": 142,
   "id": "37d8e181-77b3-46c1-86c8-6c35afa59143",
   "metadata": {
    "editable": true,
    "slideshow": {
     "slide_type": ""
    },
    "tags": []
   },
   "outputs": [
    {
     "data": {
      "text/plain": [
       "__main__.MySpikingNeuron"
      ]
     },
     "execution_count": 142,
     "metadata": {},
     "output_type": "execute_result"
    }
   ],
   "source": [
    "# instance = template()\n",
    "\n",
    "neuron = MySpikingNeuron()\n",
    "\n",
    "type(neuron)"
   ]
  },
  {
   "cell_type": "markdown",
   "id": "0daf307e-eed6-4c33-aad5-bf0af778c358",
   "metadata": {
    "editable": true,
    "slideshow": {
     "slide_type": "fragment"
    },
    "tags": []
   },
   "source": [
    "### You can access the components of the class instance via `.component`."
   ]
  },
  {
   "cell_type": "code",
   "execution_count": 143,
   "id": "a6c7b580-fb94-4dab-8916-e31e40b140bd",
   "metadata": {
    "editable": true,
    "slideshow": {
     "slide_type": ""
    },
    "tags": []
   },
   "outputs": [
    {
     "data": {
      "text/plain": [
       "0.1"
      ]
     },
     "execution_count": 143,
     "metadata": {},
     "output_type": "execute_result"
    }
   ],
   "source": [
    "neuron.get_avg_seconds_to_next_spike()"
   ]
  },
  {
   "cell_type": "markdown",
   "id": "1e9535be-35b8-4cee-985e-6695f1e46ef2",
   "metadata": {
    "editable": true,
    "slideshow": {
     "slide_type": "slide"
    },
    "tags": []
   },
   "source": [
    "### Each class instance calls its `__init___(self)` method when it is created.\n",
    "\n",
    "- `__init__` method is executed upon creation of each instance of a class.\n",
    "- `self` refers to the instance of the class you are working with.\n",
    "\n",
    "You use *self* to assign *attributes* to specific instances of a class."
   ]
  },
  {
   "cell_type": "code",
   "execution_count": 144,
   "id": "55231744-8cbb-4744-b141-e85c185c99c9",
   "metadata": {
    "editable": true,
    "slideshow": {
     "slide_type": ""
    },
    "tags": []
   },
   "outputs": [],
   "source": [
    "class MySpikingNeuron:\n",
    "    \n",
    "    def __init__(self):\n",
    "        self.spike_rate_per_sec = 20"
   ]
  },
  {
   "cell_type": "code",
   "execution_count": 145,
   "id": "3f6bf53b-146b-4df3-87af-740bcda65803",
   "metadata": {
    "slideshow": {
     "slide_type": "fragment"
    }
   },
   "outputs": [],
   "source": [
    "neuron = MySpikingNeuron()  # __init__() called here with self = neuron"
   ]
  },
  {
   "cell_type": "code",
   "execution_count": 146,
   "id": "df21e652-dd68-4220-bf88-795a899d8b3f",
   "metadata": {
    "slideshow": {
     "slide_type": "fragment"
    }
   },
   "outputs": [
    {
     "data": {
      "text/plain": [
       "20"
      ]
     },
     "execution_count": 146,
     "metadata": {},
     "output_type": "execute_result"
    }
   ],
   "source": [
    "neuron.spike_rate_per_sec"
   ]
  },
  {
   "cell_type": "markdown",
   "id": "ff3cdd7e-2888-48c2-a822-f7da9c159b15",
   "metadata": {
    "slideshow": {
     "slide_type": "slide"
    }
   },
   "source": [
    "What is the reason for the following error?"
   ]
  },
  {
   "cell_type": "code",
   "execution_count": 147,
   "id": "47ea9cdb-93d7-46f8-9b2e-dc1b207ba3e0",
   "metadata": {
    "editable": true,
    "slideshow": {
     "slide_type": ""
    },
    "tags": [
     "raises-exception"
    ]
   },
   "outputs": [
    {
     "ename": "AttributeError",
     "evalue": "'MySpikingNeuron' object has no attribute 'spike_rate_per_sec'",
     "output_type": "error",
     "traceback": [
      "\u001b[0;31m---------------------------------------------------------------------------\u001b[0m",
      "\u001b[0;31mAttributeError\u001b[0m                            Traceback (most recent call last)",
      "Cell \u001b[0;32mIn[147], line 7\u001b[0m\n\u001b[1;32m      4\u001b[0m         spike_rate_per_sec \u001b[38;5;241m=\u001b[39m \u001b[38;5;241m20\u001b[39m\n\u001b[1;32m      6\u001b[0m neuron \u001b[38;5;241m=\u001b[39m MySpikingNeuron()\n\u001b[0;32m----> 7\u001b[0m \u001b[43mneuron\u001b[49m\u001b[38;5;241;43m.\u001b[39;49m\u001b[43mspike_rate_per_sec\u001b[49m\n",
      "\u001b[0;31mAttributeError\u001b[0m: 'MySpikingNeuron' object has no attribute 'spike_rate_per_sec'"
     ]
    }
   ],
   "source": [
    "class MySpikingNeuron:\n",
    "    \n",
    "    def __init__(self):\n",
    "        spike_rate_per_sec = 20\n",
    "\n",
    "neuron = MySpikingNeuron()\n",
    "neuron.spike_rate_per_sec"
   ]
  },
  {
   "cell_type": "markdown",
   "id": "8893419d-4700-4e40-bcf4-b7b4111e1a8f",
   "metadata": {
    "editable": true,
    "slideshow": {
     "slide_type": "slide"
    },
    "tags": []
   },
   "source": [
    "### `self` provides access to a specific instance of a class."
   ]
  },
  {
   "cell_type": "code",
   "execution_count": 148,
   "id": "92248715-0e36-4142-8d67-a2792c019b50",
   "metadata": {
    "editable": true,
    "slideshow": {
     "slide_type": ""
    },
    "tags": []
   },
   "outputs": [],
   "source": [
    "class MySpikingNeuron:\n",
    "    \n",
    "    def __init__(self):\n",
    "        self.spike_rate_per_sec = 20\n",
    "    \n",
    "    def get_avg_seconds_to_next_spike(self):\n",
    "        return 1 / self.spike_rate_per_sec"
   ]
  },
  {
   "cell_type": "markdown",
   "id": "24c47e84-2604-47d2-b57a-ddee037ea6aa",
   "metadata": {
    "editable": true,
    "slideshow": {
     "slide_type": "fragment"
    },
    "tags": []
   },
   "source": [
    "### When calling a method of a class instance, `self` is *the instance itself*.\n",
    "\n",
    "`neuron.get_avg_seconds_to_next_spike()` is equivalent to `MySpikingNeuron.get_avg_seconds_to_next_spike(self=neuron)`"
   ]
  },
  {
   "cell_type": "code",
   "execution_count": 149,
   "id": "5bd84e4e-862a-452d-966e-c46c62ba2828",
   "metadata": {
    "editable": true,
    "slideshow": {
     "slide_type": "-"
    },
    "tags": []
   },
   "outputs": [
    {
     "data": {
      "text/plain": [
       "0.05"
      ]
     },
     "execution_count": 149,
     "metadata": {},
     "output_type": "execute_result"
    }
   ],
   "source": [
    "neuron = MySpikingNeuron()\n",
    "\n",
    "neuron.get_avg_seconds_to_next_spike()"
   ]
  },
  {
   "cell_type": "code",
   "execution_count": 150,
   "id": "91632a48-39d9-4bfc-9284-d9d9bc82e67d",
   "metadata": {
    "slideshow": {
     "slide_type": "fragment"
    }
   },
   "outputs": [
    {
     "data": {
      "text/plain": [
       "0.05"
      ]
     },
     "execution_count": 150,
     "metadata": {},
     "output_type": "execute_result"
    }
   ],
   "source": [
    "MySpikingNeuron.get_avg_seconds_to_next_spike(self=neuron)"
   ]
  },
  {
   "cell_type": "markdown",
   "id": "6afd38c3-34f0-440e-87a2-dcf69e9ecd19",
   "metadata": {
    "slideshow": {
     "slide_type": "slide"
    }
   },
   "source": [
    "Classes are mutable."
   ]
  },
  {
   "cell_type": "code",
   "execution_count": 151,
   "id": "4e0025c8-27b6-421a-ba8b-ad032f56e171",
   "metadata": {
    "slideshow": {
     "slide_type": "slide"
    }
   },
   "outputs": [
    {
     "data": {
      "text/plain": [
       "0.05"
      ]
     },
     "execution_count": 151,
     "metadata": {},
     "output_type": "execute_result"
    }
   ],
   "source": [
    "class MySpikingNeuron:\n",
    "    \n",
    "    def __init__(self):\n",
    "        self.spike_rate_per_sec = 20\n",
    "    \n",
    "    def get_avg_seconds_to_next_spike(self):\n",
    "        return 1 / self.spike_rate_per_sec\n",
    "\n",
    "neuron = MySpikingNeuron()\n",
    "neuron.get_avg_seconds_to_next_spike()"
   ]
  },
  {
   "cell_type": "code",
   "execution_count": 152,
   "id": "d822f33b-74a3-45a9-a34d-2e80363c526c",
   "metadata": {},
   "outputs": [
    {
     "data": {
      "text/plain": [
       "0.1"
      ]
     },
     "execution_count": 152,
     "metadata": {},
     "output_type": "execute_result"
    }
   ],
   "source": [
    "neuron.spike_rate_per_sec = 10\n",
    "neuron.get_avg_seconds_to_next_spike()"
   ]
  },
  {
   "cell_type": "markdown",
   "id": "9f53bf6c-da99-4f40-9c0a-32bca85107b8",
   "metadata": {
    "slideshow": {
     "slide_type": "slide"
    }
   },
   "source": [
    "Editing an instance of a class does not affect other instances of the class and does not alter the class template."
   ]
  },
  {
   "cell_type": "code",
   "execution_count": 153,
   "id": "4d947566-6216-4a77-92c0-08cb89c97530",
   "metadata": {},
   "outputs": [
    {
     "name": "stdout",
     "output_type": "stream",
     "text": [
      "10\n",
      "20\n"
     ]
    }
   ],
   "source": [
    "another_neuron = MySpikingNeuron()\n",
    "\n",
    "print(neuron.spike_rate_per_sec)\n",
    "print(another_neuron.spike_rate_per_sec)"
   ]
  },
  {
   "cell_type": "markdown",
   "id": "e164a3ee-1d97-470c-b7d1-932312d5f6a2",
   "metadata": {},
   "source": [
    "This way you can create many instances of `MySpikingNeuron` and assign them all different spike rates."
   ]
  },
  {
   "cell_type": "markdown",
   "id": "8f6e4e5f-9788-4fd1-973a-3cafa4e81367",
   "metadata": {
    "slideshow": {
     "slide_type": "slide"
    }
   },
   "source": [
    "`__init__(self, ...)`"
   ]
  },
  {
   "cell_type": "code",
   "execution_count": 154,
   "id": "b2221065-be00-45df-9bd8-7a3d1d88c25a",
   "metadata": {},
   "outputs": [],
   "source": [
    "class MySpikingNeuron:\n",
    "    \n",
    "    def __init__(self, rate=20, region=\"hippocampus\"):\n",
    "        self.spike_rate_per_sec = rate\n",
    "        self.region = region"
   ]
  },
  {
   "cell_type": "code",
   "execution_count": 155,
   "id": "d77c91f5-6901-4eeb-9232-f55fd41c368e",
   "metadata": {},
   "outputs": [],
   "source": [
    "neuronA = MySpikingNeuron(10, \"cortex\")\n",
    "neuronB = MySpikingNeuron(5)\n",
    "neuronC = MySpikingNeuron()\n",
    "neuronD = MySpikingNeuron(region=\"spinal cord\")"
   ]
  },
  {
   "cell_type": "markdown",
   "id": "79763c63-af5e-41a4-a3fd-73f3f8eaec0b",
   "metadata": {
    "slideshow": {
     "slide_type": "slide"
    }
   },
   "source": [
    "The special attribute `__dict__` is a dictionary of a class instance's attributes."
   ]
  },
  {
   "cell_type": "code",
   "execution_count": 156,
   "id": "c1ed4e01-c443-4774-a630-553307f8c8d9",
   "metadata": {
    "slideshow": {
     "slide_type": "-"
    }
   },
   "outputs": [
    {
     "name": "stdout",
     "output_type": "stream",
     "text": [
      "{'spike_rate_per_sec': 10, 'region': 'cortex'}\n",
      "{'spike_rate_per_sec': 5, 'region': 'hippocampus'}\n",
      "{'spike_rate_per_sec': 20, 'region': 'hippocampus'}\n",
      "{'spike_rate_per_sec': 20, 'region': 'spinal cord'}\n"
     ]
    }
   ],
   "source": [
    "print(neuronA.__dict__)\n",
    "print(neuronB.__dict__)\n",
    "print(neuronC.__dict__)\n",
    "print(neuronD.__dict__)"
   ]
  },
  {
   "cell_type": "code",
   "execution_count": 157,
   "id": "2dc04db0-6d37-423d-b0e5-e0affa80814a",
   "metadata": {
    "slideshow": {
     "slide_type": "fragment"
    }
   },
   "outputs": [
    {
     "data": {
      "text/plain": [
       "(10, 5)"
      ]
     },
     "execution_count": 157,
     "metadata": {},
     "output_type": "execute_result"
    }
   ],
   "source": [
    "neuronA.spike_rate_per_sec, neuronB.spike_rate_per_sec"
   ]
  },
  {
   "cell_type": "markdown",
   "id": "19ee569f-63c9-4e27-a6f8-0e2b4295e951",
   "metadata": {
    "slideshow": {
     "slide_type": "slide"
    }
   },
   "source": [
    "Another example of a class method."
   ]
  },
  {
   "cell_type": "code",
   "execution_count": 158,
   "id": "31aefc19-8617-4412-9e96-ff437f0f49ce",
   "metadata": {},
   "outputs": [],
   "source": [
    "class MySpikingNeuron:\n",
    "    \n",
    "    def __init__(self, rate=100, region=\"\"):\n",
    "        self.spike_rate_per_sec = rate\n",
    "        self.brain_region = region\n",
    "    \n",
    "    def get_avg_seconds_to_next_spike(self):\n",
    "        return 1 / self.spike_rate_per_sec\n",
    "    \n",
    "    def get_avg_spike_rate(self, another_neuron):\n",
    "        return (self.spike_rate_per_sec + another_neuron.spike_rate_per_sec) / 2"
   ]
  },
  {
   "cell_type": "code",
   "execution_count": 159,
   "id": "38380f70-73a6-47a8-b119-76f4d12ec533",
   "metadata": {},
   "outputs": [
    {
     "data": {
      "text/plain": [
       "55.0"
      ]
     },
     "execution_count": 159,
     "metadata": {},
     "output_type": "execute_result"
    }
   ],
   "source": [
    "neuronA = MySpikingNeuron(10)\n",
    "neuronB = MySpikingNeuron(100)\n",
    "\n",
    "neuronA.get_avg_spike_rate(neuronB)"
   ]
  },
  {
   "cell_type": "markdown",
   "id": "600ff766-7657-4fc4-a3df-d8ee6b446701",
   "metadata": {
    "editable": true,
    "slideshow": {
     "slide_type": "slide"
    },
    "tags": []
   },
   "source": [
    "# Class inheritance"
   ]
  },
  {
   "cell_type": "code",
   "execution_count": 160,
   "id": "cc65feba-dfb4-4fb3-823f-e2f7d346e633",
   "metadata": {
    "editable": true,
    "slideshow": {
     "slide_type": ""
    },
    "tags": []
   },
   "outputs": [],
   "source": [
    "class MySpikingNeuron:\n",
    "    \n",
    "    def __init__(self):\n",
    "        self.spike_rate_per_sec = 100\n",
    "    \n",
    "    def get_avg_seconds_to_next_spike(self):\n",
    "        return 1 / self.spike_rate_per_sec"
   ]
  },
  {
   "cell_type": "code",
   "execution_count": 161,
   "id": "be16c0d4-c559-40f8-9e16-c09005312cb0",
   "metadata": {},
   "outputs": [],
   "source": [
    "class MyCoolSpikingNeuron(MySpikingNeuron):\n",
    "    \n",
    "    def __init__(self):\n",
    "        # initialize the parent class\n",
    "        MySpikingNeuron.__init__(self)\n",
    "\n",
    "        self.coolness_factor = 9"
   ]
  },
  {
   "cell_type": "code",
   "execution_count": 162,
   "id": "db331ea2-13a7-4c74-b68f-241bf007ee30",
   "metadata": {
    "slideshow": {
     "slide_type": "fragment"
    }
   },
   "outputs": [
    {
     "data": {
      "text/plain": [
       "{'spike_rate_per_sec': 100, 'coolness_factor': 9}"
      ]
     },
     "execution_count": 162,
     "metadata": {},
     "output_type": "execute_result"
    }
   ],
   "source": [
    "neuron = MyCoolSpikingNeuron()\n",
    "\n",
    "neuron.__dict__"
   ]
  },
  {
   "cell_type": "code",
   "execution_count": 163,
   "id": "a3755870-9f00-4043-8a6b-066da34a766b",
   "metadata": {},
   "outputs": [
    {
     "data": {
      "text/plain": [
       "0.01"
      ]
     },
     "execution_count": 163,
     "metadata": {},
     "output_type": "execute_result"
    }
   ],
   "source": [
    "neuron.get_avg_seconds_to_next_spike()"
   ]
  },
  {
   "cell_type": "markdown",
   "id": "37b1ae2f-3b08-431e-94c7-3ff7c5fa0fa8",
   "metadata": {
    "slideshow": {
     "slide_type": "slide"
    }
   },
   "source": [
    "Let's check out a class that implements **linear regression** (*fitting a line to some data*): https://scikit-learn.org/stable/modules/generated/sklearn.linear_model.LinearRegression.html#sklearn.linear_model.LinearRegression\n",
    "\n",
    "The source code for this class is available at: https://github.com/scikit-learn/scikit-learn/blob/f3f51f9b6/sklearn/linear_model/_base.py#L529"
   ]
  },
  {
   "cell_type": "code",
   "execution_count": 164,
   "id": "2693d240-cbe4-4f5c-9b75-afddac164c18",
   "metadata": {
    "slideshow": {
     "slide_type": "slide"
    }
   },
   "outputs": [],
   "source": [
    "# You will find countless trivial examples of classes online such as:\n",
    "\n",
    "class Dog:\n",
    "\n",
    "    def __init__(self, name, breed):\n",
    "        self.name = name\n",
    "        self.breed = breed\n",
    "        self.tricks = [\"sit\"]\n",
    "\n",
    "    def add_trick(self, trick):\n",
    "        self.tricks.append(trick)\n",
    "\n",
    "mydog = Dog(\"Scooter\", \"Husky\")\n",
    "mydog.add_trick(\"roll over\")"
   ]
  },
  {
   "cell_type": "markdown",
   "id": "c58dc2e8-1bdc-43a1-bf36-8b0d2943a7ab",
   "metadata": {},
   "source": [
    "**Does this really warrant a *class*!?**\n",
    "\n",
    "What about a simple *Table* with columns for name, breed, tricks, etc.?"
   ]
  },
  {
   "cell_type": "markdown",
   "id": "77beeb9d-64bb-464a-a244-d373604d9a73",
   "metadata": {
    "slideshow": {
     "slide_type": "slide"
    }
   },
   "source": [
    "An opinion on classes and object-oriented programming (OOP):\n",
    "\n",
    "**In most cases a class is just an *unecessary* or *awkward* attempt at *compartmentalization*.**\n",
    "\n",
    "https://www.youtube.com/watch?v=QM1iUe6IofM&t=2618s"
   ]
  },
  {
   "cell_type": "markdown",
   "id": "7950a1e6-992d-46e3-9164-a181e0a46af3",
   "metadata": {
    "slideshow": {
     "slide_type": "slide"
    }
   },
   "source": [
    "### When is it appropriate to use a class?\n",
    "\n",
    "Whenever it makes **A LOT OF SENSE** to keep *data (attributes)* and *functionality (methods)* together in a compartmentalized package.\n",
    "\n",
    "Ummm... What does that mean?"
   ]
  },
  {
   "cell_type": "markdown",
   "id": "53eafa2b-a16f-4c19-827b-a00030dbfcda",
   "metadata": {
    "slideshow": {
     "slide_type": "fragment"
    }
   },
   "source": [
    "There is *no singlular situation* in which a class is obviously the best choice. So instead, how about an **example**:\n",
    "\n",
    "Let's check out a class that implements **linear regression** (*fitting a line to some data*): https://scikit-learn.org/stable/modules/generated/sklearn.linear_model.LinearRegression.html#sklearn.linear_model.LinearRegression\n",
    "\n",
    "The source code for this class is available at: https://github.com/scikit-learn/scikit-learn/blob/f3f51f9b6/sklearn/linear_model/_base.py#L529\n",
    "\n",
    "**Do you think it was useful to implement `LinearRegression` as a class?**"
   ]
  },
  {
   "cell_type": "markdown",
   "id": "4d7ccd72-1d7b-4213-89a1-f8098f0077c9",
   "metadata": {
    "slideshow": {
     "slide_type": "slide"
    }
   },
   "source": [
    "Imagine that we implement classes for multiple analysis methods such as `LinearRegression`, `RidgeRegression`, `RandomForestClassification`, etc.\n",
    "\n",
    "and each of them has a `.fit(data)` method.\n",
    "\n",
    "Then we can write code for many different types of analyses that has a *consistent form*:\n",
    "\n",
    "```python\n",
    "model = LinearRegression()\n",
    "model.fit(data)\n",
    "\n",
    "model = RidgeRegression()\n",
    "model.fit(data)\n",
    "\n",
    "model = RandomForestClassification()\n",
    "model.fit(data)\n",
    "```"
   ]
  },
  {
   "cell_type": "markdown",
   "id": "b113e22b-59a2-4fec-8445-fe350b411fc8",
   "metadata": {
    "editable": true,
    "slideshow": {
     "slide_type": "slide"
    },
    "tags": []
   },
   "source": [
    "# Modules\n",
    "**Learning goals**\n",
    "- You will be able to organize your code into your own modules."
   ]
  },
  {
   "cell_type": "markdown",
   "id": "1ea091b2-d0cb-4f3b-abfe-42d804227032",
   "metadata": {
    "editable": true,
    "slideshow": {
     "slide_type": "slide"
    },
    "tags": []
   },
   "source": [
    "### A **module** is just a **collection of any kind of objects** including *data*, *functions*, *classes*, etc.\n",
    "\n",
    "That's pretty much the same thing as a class!?\n",
    "\n",
    "### But a *module is a single python `.py` file*, whereas a *class is just a code block* within a file.\n",
    "\n",
    "You can think of it as:\n",
    "\n",
    "- **module** = compartmentalization on a *macro scale*\n",
    "- **class** = compartmentalization on a *micro scale*"
   ]
  },
  {
   "cell_type": "markdown",
   "id": "263949ba-b15e-416e-b068-bd9cb973c783",
   "metadata": {
    "editable": true,
    "slideshow": {
     "slide_type": "fragment"
    },
    "tags": []
   },
   "source": [
    "**Classes** are only a good idea in *LIMITED CASES*.\n",
    "\n",
    "**Modules** are almost *ALWAYS A GOOD IDEA* if your code contains more than a few very short functions or classes."
   ]
  },
  {
   "cell_type": "markdown",
   "id": "145cc912-4ceb-4ec1-a126-f4bb8d74c0ee",
   "metadata": {
    "slideshow": {
     "slide_type": "slide"
    }
   },
   "source": [
    "Module `MyNeuron.py` contains a defintion for the class `MySpikingNeuron`."
   ]
  },
  {
   "cell_type": "code",
   "execution_count": 165,
   "id": "348083da-b812-4698-9b68-73239c931f26",
   "metadata": {},
   "outputs": [],
   "source": [
    "import MyNeuron\n",
    "\n",
    "neuronA = MyNeuron.MySpikingNeuron(10)\n",
    "neuronB = MyNeuron.MySpikingNeuron(100)"
   ]
  },
  {
   "cell_type": "code",
   "execution_count": 166,
   "id": "04aab36c-3d7e-4940-b848-66477766068c",
   "metadata": {
    "slideshow": {
     "slide_type": "fragment"
    }
   },
   "outputs": [],
   "source": [
    "import MyNeuron as mn\n",
    "\n",
    "neuronA = mn.MySpikingNeuron(10)\n",
    "neuronB = mn.MySpikingNeuron(100)"
   ]
  },
  {
   "cell_type": "code",
   "execution_count": 167,
   "id": "91020433-9edc-4a8a-97be-7ab3e95fab87",
   "metadata": {
    "slideshow": {
     "slide_type": "fragment"
    }
   },
   "outputs": [
    {
     "data": {
      "text/plain": [
       "MyNeuron.MySpikingNeuron"
      ]
     },
     "execution_count": 167,
     "metadata": {},
     "output_type": "execute_result"
    }
   ],
   "source": [
    "from MyNeuron import MySpikingNeuron\n",
    "\n",
    "neuronA = MySpikingNeuron(10)\n",
    "neuronB = MySpikingNeuron(100)\n",
    "\n",
    "MySpikingNeuron"
   ]
  },
  {
   "cell_type": "markdown",
   "id": "2beaa77e-7883-4099-b55e-e49f36ba544b",
   "metadata": {
    "slideshow": {
     "slide_type": "slide"
    }
   },
   "source": [
    "You have access to everything in the module."
   ]
  },
  {
   "cell_type": "code",
   "execution_count": 168,
   "id": "948c53ab-df6b-48fb-acb0-845bef4f3846",
   "metadata": {},
   "outputs": [],
   "source": [
    "import MyNeuron2"
   ]
  },
  {
   "cell_type": "code",
   "execution_count": 169,
   "id": "4470ac5f-a21c-41ee-863f-cf22a61968ed",
   "metadata": {},
   "outputs": [
    {
     "data": {
      "text/plain": [
       "'hippocampus'"
      ]
     },
     "execution_count": 169,
     "metadata": {},
     "output_type": "execute_result"
    }
   ],
   "source": [
    "MyNeuron2.brain_region"
   ]
  },
  {
   "cell_type": "code",
   "execution_count": 170,
   "id": "0177d702-b1fb-4152-9eb3-6f729f1aaa06",
   "metadata": {
    "slideshow": {
     "slide_type": "fragment"
    }
   },
   "outputs": [
    {
     "data": {
      "text/plain": [
       "[<MyNeuron2.MySpikingNeuron at 0x106182f30>,\n",
       " <MyNeuron2.MySpikingNeuron at 0x1068af950>,\n",
       " <MyNeuron2.MySpikingNeuron at 0x106181190>]"
      ]
     },
     "execution_count": 170,
     "metadata": {},
     "output_type": "execute_result"
    }
   ],
   "source": [
    "neurons = MyNeuron2.create_three_random_neurons()\n",
    "\n",
    "neurons"
   ]
  },
  {
   "cell_type": "code",
   "execution_count": 171,
   "id": "8082d850-2c19-4b0f-a0f0-2379d4d4fe43",
   "metadata": {},
   "outputs": [
    {
     "name": "stdout",
     "output_type": "stream",
     "text": [
      "74.76037515352112\n",
      "15.528316081766514\n",
      "67.8643280174985\n"
     ]
    }
   ],
   "source": [
    "for neuron in neurons:\n",
    "    print(neuron.spike_rate_per_sec)"
   ]
  },
  {
   "cell_type": "markdown",
   "id": "125a08e2-3dfd-4649-bb6e-ebedb3762475",
   "metadata": {
    "slideshow": {
     "slide_type": "slide"
    }
   },
   "source": [
    "### Nested modules\n",
    "\n",
    "`MyNeuron3` does not directly contain the definition for the `MySpikingNeuron` class.\n",
    "\n",
    "Instead, `MyNeuron3` itself imports `MyNeuron`."
   ]
  },
  {
   "cell_type": "code",
   "execution_count": 172,
   "id": "157dfe39-ad9c-48ec-9161-9cf3cd9478f6",
   "metadata": {},
   "outputs": [],
   "source": [
    "import MyNeuron3"
   ]
  },
  {
   "cell_type": "code",
   "execution_count": 173,
   "id": "72d3ebed-b7a2-4fe0-b2c1-3483f385ac3a",
   "metadata": {
    "editable": true,
    "slideshow": {
     "slide_type": ""
    },
    "tags": [
     "raises-exception"
    ]
   },
   "outputs": [
    {
     "ename": "AttributeError",
     "evalue": "module 'MyNeuron3' has no attribute 'MySpikingNeuron'",
     "output_type": "error",
     "traceback": [
      "\u001b[0;31m---------------------------------------------------------------------------\u001b[0m",
      "\u001b[0;31mAttributeError\u001b[0m                            Traceback (most recent call last)",
      "Cell \u001b[0;32mIn[173], line 1\u001b[0m\n\u001b[0;32m----> 1\u001b[0m neuron \u001b[38;5;241m=\u001b[39m \u001b[43mMyNeuron3\u001b[49m\u001b[38;5;241;43m.\u001b[39;49m\u001b[43mMySpikingNeuron\u001b[49m(\u001b[38;5;241m10\u001b[39m)\n",
      "\u001b[0;31mAttributeError\u001b[0m: module 'MyNeuron3' has no attribute 'MySpikingNeuron'"
     ]
    }
   ],
   "source": [
    "neuron = MyNeuron3.MySpikingNeuron(10)"
   ]
  },
  {
   "cell_type": "code",
   "execution_count": 174,
   "id": "984dc8f6-c8e6-48c0-9669-e48043b4fbdb",
   "metadata": {
    "editable": true,
    "slideshow": {
     "slide_type": "fragment"
    },
    "tags": []
   },
   "outputs": [
    {
     "data": {
      "text/plain": [
       "<MyNeuron.MySpikingNeuron at 0x1068e55b0>"
      ]
     },
     "execution_count": 174,
     "metadata": {},
     "output_type": "execute_result"
    }
   ],
   "source": [
    "neuron = MyNeuron3.MyNeuron.MySpikingNeuron(10)\n",
    "neuron"
   ]
  },
  {
   "cell_type": "code",
   "execution_count": 175,
   "id": "bd3cf6a9-86ac-4d8c-8f30-8a4b81fbc161",
   "metadata": {
    "editable": true,
    "slideshow": {
     "slide_type": "fragment"
    },
    "tags": []
   },
   "outputs": [
    {
     "data": {
      "text/plain": [
       "[<MyNeuron.MySpikingNeuron at 0x1068e58b0>,\n",
       " <MyNeuron.MySpikingNeuron at 0x1068e4b60>,\n",
       " <MyNeuron.MySpikingNeuron at 0x1068e5880>]"
      ]
     },
     "execution_count": 175,
     "metadata": {},
     "output_type": "execute_result"
    }
   ],
   "source": [
    "neurons = MyNeuron3.create_three_random_neurons()\n",
    "\n",
    "neurons"
   ]
  }
 ],
 "metadata": {
  "celltoolbar": "Slideshow",
  "kernelspec": {
   "display_name": "Python 3 (ipykernel)",
   "language": "python",
   "name": "python3"
  },
  "language_info": {
   "codemirror_mode": {
    "name": "ipython",
    "version": 3
   },
   "file_extension": ".py",
   "mimetype": "text/x-python",
   "name": "python",
   "nbconvert_exporter": "python",
   "pygments_lexer": "ipython3",
   "version": "3.12.8"
  },
  "rise": {
   "enable_chalkboard": false,
   "scroll": true,
   "slideNumber": false,
   "theme": "white"
  }
 },
 "nbformat": 4,
 "nbformat_minor": 5
}
