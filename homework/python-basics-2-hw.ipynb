{
 "cells": [
  {
   "attachments": {},
   "cell_type": "markdown",
   "metadata": {},
   "source": [
    "# Python basics 2 (9 pts)"
   ]
  },
  {
   "attachments": {},
   "cell_type": "markdown",
   "metadata": {},
   "source": [
    "---\n",
    "### Collaborators\n",
    "You MUST include a bulleted list with the full names of everyone you collaborated with on this assignment.\n",
    "- Jane Doe\n",
    "- John Doe"
   ]
  },
  {
   "attachments": {},
   "cell_type": "markdown",
   "metadata": {},
   "source": [
    "---\n",
    "1. (3 pts) Given the list of subject IDs below (`subjects`), write a for loop that iterates over the list and changes all `?` marks to zeros. *Note: the changes must be reflected in the original `subjects` list. Print the list after making your changes to verify.*"
   ]
  },
  {
   "cell_type": "code",
   "execution_count": null,
   "metadata": {},
   "outputs": [],
   "source": [
    "# the original list of subject IDs (don't change this)\n",
    "subjects = ['ID78?', 'ID456', 'ID12?', 'ID987']\n",
    "\n",
    "# '?' -> '0'\n",
    "# ... your code here ...\n",
    "\n",
    "# print out altered list of subject IDs after replacing '?' with '0'\n",
    "subjects"
   ]
  },
  {
   "attachments": {},
   "cell_type": "markdown",
   "metadata": {},
   "source": [
    "---\n",
    "2. (3 pts) Create a new `class` called `JokeList` that stores a list of values in the attribute `scrambled_values` and implements the following functionality:\n",
    "- Initializing `JokeList` with a list should store the reversed order of the input list in `scrambled_values`, otherwise `scrambled_values` should be initialized as an empty list if no list is input.\n",
    "- Create an `append` method that adds a new value to the *beginning* of `scrambled_values`.\n",
    "- Create a `print` method that prints the reversed order of `scrambled_values`. "
   ]
  },
  {
   "cell_type": "code",
   "execution_count": null,
   "metadata": {},
   "outputs": [],
   "source": [
    "# ... your JokeList class code here ...\n",
    "\n",
    "\n",
    "# Let's try out your JokeList class.\n",
    "# You don't have to change any of the code below,\n",
    "# but make sure you agree that the output is as expected.\n",
    "values = [1, 5, 8, 2, 7, 3, 6, 4]\n",
    "jlist = JokeList(values)\n",
    "jlist.append(9)\n",
    "jlist.print()"
   ]
  },
  {
   "attachments": {},
   "cell_type": "markdown",
   "metadata": {},
   "source": [
    "---\n",
    "3. (3 pts) Write a list comprehension that returns a new list with the square root of each value in the original list (`original_values` below) where the original value is less than 5. Store the new list in the variable `new_list` and print it out to verify. "
   ]
  },
  {
   "cell_type": "code",
   "execution_count": null,
   "metadata": {},
   "outputs": [],
   "source": [
    "# the original list of values (don't change this)\n",
    "original_values = [1, 5, 8, 2, 7, 3, 6, 4]\n",
    "\n",
    "# ... your code here for the desired list comprehension ...\n",
    "new_list = ...\n",
    "\n",
    "# print out the result\n",
    "new_list"
   ]
  }
 ],
 "metadata": {
  "kernelspec": {
   "display_name": "neu365p",
   "language": "python",
   "name": "python3"
  },
  "language_info": {
   "codemirror_mode": {
    "name": "ipython",
    "version": 3
   },
   "file_extension": ".py",
   "mimetype": "text/x-python",
   "name": "python",
   "nbconvert_exporter": "python",
   "pygments_lexer": "ipython3",
   "version": "3.12.8"
  }
 },
 "nbformat": 4,
 "nbformat_minor": 4
}
