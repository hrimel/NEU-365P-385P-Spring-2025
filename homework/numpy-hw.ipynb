{
 "cells": [
  {
   "attachments": {},
   "cell_type": "markdown",
   "metadata": {},
   "source": [
    "# NumPy N-dimensional arrays (15 pts)"
   ]
  },
  {
   "attachments": {},
   "cell_type": "markdown",
   "metadata": {},
   "source": [
    "---\n",
    "### Collaborators\n",
    "You MUST include a bulleted list with the full names of everyone you collaborated with on this assignment.\n",
    "- Jane Doe\n",
    "- John Doe"
   ]
  },
  {
   "attachments": {},
   "cell_type": "markdown",
   "metadata": {},
   "source": [
    "---\n",
    "The questions below refer to the average (x,y) positions of 10 mice during an experiment. The positions are given in the variable `avg_pos_xy` where the first column is the x values and second column is the y values (each row is an x,y pair for a single mouse). The positions have been normalized to the dimensions of the experiment setup. e.g., 0 refers to the left/bottom side of the cage and 1 refers to the right/top side of the cage."
   ]
  },
  {
   "cell_type": "code",
   "execution_count": null,
   "metadata": {},
   "outputs": [],
   "source": [
    "import numpy as np\n",
    "\n",
    "# So everyone genereates the exact same \"random\" positions.\n",
    "np.random.seed(0)\n",
    "\n",
    "# Average (x,y) position of 10 mice during experiment normalized to cage dimensions.\n",
    "avg_pos_xy = np.random.random([10, 2])\n",
    "avg_pos_xy"
   ]
  },
  {
   "attachments": {},
   "cell_type": "markdown",
   "metadata": {
    "editable": true,
    "slideshow": {
     "slide_type": "fragment"
    },
    "tags": []
   },
   "source": [
    "---\n",
    "1. (3 pts) Use a numpy function to compute the mean (x,y) position across all mice. *Do NOT do this manually with a loop.*"
   ]
  },
  {
   "cell_type": "code",
   "execution_count": null,
   "metadata": {},
   "outputs": [],
   "source": []
  },
  {
   "attachments": {},
   "cell_type": "markdown",
   "metadata": {},
   "source": [
    "---\n",
    "2. (3 pts) Create two variables `x` and `y` that refer to the first and second columns of the `avg_pos_xy` matrix, respectively. These variables should be views/references to the data in `avg_pos_xy` as obtained via NumPy slicing, NOT copies of the data."
   ]
  },
  {
   "cell_type": "code",
   "execution_count": 4,
   "metadata": {},
   "outputs": [],
   "source": []
  },
  {
   "attachments": {},
   "cell_type": "markdown",
   "metadata": {},
   "source": [
    "---\n",
    "3. (3 pts) Use logical indexing to create two new variables `lefties` and `righties` that are views into the `avg_pos_xy` array for mice whose average position was either on the left (x < 0.5) or right (x >= 0.5) side of the cage. *Hint: Using your variable `x` from above may simplify things.*"
   ]
  },
  {
   "cell_type": "code",
   "execution_count": null,
   "metadata": {},
   "outputs": [],
   "source": []
  },
  {
   "attachments": {},
   "cell_type": "markdown",
   "metadata": {},
   "source": [
    "---\n",
    "4. (3 pts) If the experiment bounds are 200 cm along x and 150 cm along y, use broadcasting to convert the normalized positions in `avg_pos_xy` to positions in centimeters. *Hint: This conversion should only require a single line of code.*"
   ]
  },
  {
   "cell_type": "code",
   "execution_count": null,
   "metadata": {},
   "outputs": [],
   "source": []
  },
  {
   "cell_type": "markdown",
   "metadata": {},
   "source": [
    "---\n",
    "5. (3 pts) Plot the averge position in centimeters of each mouse as a scatter point on a 2-D plot. *Make sure you label your plot axes appropriately.*"
   ]
  },
  {
   "cell_type": "code",
   "execution_count": null,
   "metadata": {},
   "outputs": [],
   "source": []
  }
 ],
 "metadata": {
  "kernelspec": {
   "display_name": "neu365p",
   "language": "python",
   "name": "python3"
  },
  "language_info": {
   "codemirror_mode": {
    "name": "ipython",
    "version": 3
   },
   "file_extension": ".py",
   "mimetype": "text/x-python",
   "name": "python",
   "nbconvert_exporter": "python",
   "pygments_lexer": "ipython3",
   "version": "3.12.8"
  }
 },
 "nbformat": 4,
 "nbformat_minor": 4
}
